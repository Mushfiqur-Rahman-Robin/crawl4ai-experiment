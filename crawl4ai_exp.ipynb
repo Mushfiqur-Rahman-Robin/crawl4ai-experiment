{
 "cells": [
  {
   "cell_type": "code",
   "execution_count": 1,
   "id": "da73038e",
   "metadata": {},
   "outputs": [
    {
     "name": "stdout",
     "output_type": "stream",
     "text": [
      "0.6.3\n"
     ]
    }
   ],
   "source": [
    "import crawl4ai\n",
    "print(crawl4ai.__version__.__version__)"
   ]
  },
  {
   "cell_type": "code",
   "execution_count": 2,
   "id": "76d6a41f",
   "metadata": {},
   "outputs": [
    {
     "name": "stdout",
     "output_type": "stream",
     "text": [
      "\u001b[1;36m[\u001b[0m\u001b[36mINIT\u001b[0m\u001b[1;36m]\u001b[0m\u001b[36m...\u001b[0m\u001b[36m. → Running Crawl4AI health check\u001b[0m\u001b[36m...\u001b[0m\u001b[36m \u001b[0m\n",
      "\u001b[1;36m[\u001b[0m\u001b[36mINIT\u001b[0m\u001b[1;36m]\u001b[0m\u001b[36m...\u001b[0m\u001b[36m. → Crawl4AI \u001b[0m\u001b[1;36m0.6\u001b[0m\u001b[36m.\u001b[0m\u001b[1;36m3\u001b[0m\u001b[36m \u001b[0m\n",
      "\u001b[1;36m[\u001b[0m\u001b[36mTEST\u001b[0m\u001b[1;36m]\u001b[0m\u001b[36m...\u001b[0m\u001b[36m. ℹ Testing crawling capabilities\u001b[0m\u001b[36m...\u001b[0m\u001b[36m \u001b[0m\n",
      "\u001b[1;36m[\u001b[0m\u001b[36mEXPORT\u001b[0m\u001b[1;36m]\u001b[0m\u001b[36m.. ℹ Exporting media \u001b[0m\u001b[1;36m(\u001b[0m\u001b[36mPDF/MHTML/screenshot\u001b[0m\u001b[1;36m)\u001b[0m\u001b[36m took \u001b[0m\u001b[1;36m1.\u001b[0m\u001b[36m72s \u001b[0m\n",
      "\u001b[1;32m[\u001b[0m\u001b[32mFETCH\u001b[0m\u001b[1;32m]\u001b[0m\u001b[32m...\u001b[0m\u001b[32m ↓ \u001b[0m\u001b[4;32mhttps://crawl4ai.com\u001b[0m\u001b[32m                                               \u001b[0m\n",
      "\u001b[32m| \u001b[0m\u001b[32m✓\u001b[0m\u001b[32m | ⏱: \u001b[0m\u001b[1;32m7.\u001b[0m\u001b[32m28s \u001b[0m\n",
      "\u001b[1;32m[\u001b[0m\u001b[32mSCRAPE\u001b[0m\u001b[1;32m]\u001b[0m\u001b[32m.. ◆ \u001b[0m\u001b[4;32mhttps://crawl4ai.com\u001b[0m\u001b[32m                                               \u001b[0m\n",
      "\u001b[32m| \u001b[0m\u001b[32m✓\u001b[0m\u001b[32m | ⏱: \u001b[0m\u001b[1;32m0.\u001b[0m\u001b[32m12s \u001b[0m\n",
      "\u001b[1;32m[\u001b[0m\u001b[32mCOMPLETE\u001b[0m\u001b[1;32m]\u001b[0m\u001b[32m ● \u001b[0m\u001b[4;32mhttps://crawl4ai.com\u001b[0m\u001b[32m                                               \u001b[0m\n",
      "\u001b[32m| \u001b[0m\u001b[32m✓\u001b[0m\u001b[32m | ⏱: \u001b[0m\u001b[1;32m7.\u001b[0m\u001b[32m41s \u001b[0m\n",
      "\u001b[1;32m[\u001b[0m\u001b[32mCOMPLETE\u001b[0m\u001b[1;32m]\u001b[0m\u001b[32m ● ✅ Crawling test passed! \u001b[0m\n"
     ]
    }
   ],
   "source": [
    "!crawl4ai-doctor"
   ]
  },
  {
   "cell_type": "markdown",
   "id": "c26c7976",
   "metadata": {},
   "source": [
    "# try the code below to ensure that Playwright is installed and works properly."
   ]
  },
  {
   "cell_type": "code",
   "execution_count": 3,
   "id": "cbd5ee62",
   "metadata": {},
   "outputs": [],
   "source": [
    "import asyncio\n",
    "import nest_asyncio\n",
    "nest_asyncio.apply()"
   ]
  },
  {
   "cell_type": "code",
   "execution_count": 4,
   "id": "15fdbd80",
   "metadata": {},
   "outputs": [
    {
     "name": "stdout",
     "output_type": "stream",
     "text": [
      "Title: Example Domain\n"
     ]
    }
   ],
   "source": [
    "from playwright.async_api import async_playwright\n",
    "\n",
    "async def test_browser():\n",
    "    async with async_playwright() as p:\n",
    "        browser = await p.chromium.launch(headless=True)\n",
    "        page = await browser.new_page()\n",
    "        await page.goto('https://example.com')\n",
    "        print(f'Title: {await page.title()}')\n",
    "        await browser.close()\n",
    "\n",
    "asyncio.run(test_browser())"
   ]
  },
  {
   "cell_type": "markdown",
   "id": "9dc39501",
   "metadata": {},
   "source": [
    "# simple crawling"
   ]
  },
  {
   "cell_type": "code",
   "execution_count": 8,
   "id": "7aecdb0c",
   "metadata": {},
   "outputs": [
    {
     "data": {
      "text/html": [
       "<pre style=\"white-space:pre;overflow-x:auto;line-height:normal;font-family:Menlo,'DejaVu Sans Mono',consolas,'Courier New',monospace\"><span style=\"color: #008080; text-decoration-color: #008080; font-weight: bold\">[</span><span style=\"color: #008080; text-decoration-color: #008080\">INIT</span><span style=\"color: #008080; text-decoration-color: #008080; font-weight: bold\">]</span><span style=\"color: #008080; text-decoration-color: #008080\">.... → Crawl4AI </span><span style=\"color: #008080; text-decoration-color: #008080; font-weight: bold\">0.6</span><span style=\"color: #008080; text-decoration-color: #008080\">.</span><span style=\"color: #008080; text-decoration-color: #008080; font-weight: bold\">3</span><span style=\"color: #008080; text-decoration-color: #008080\"> </span>\n",
       "</pre>\n"
      ],
      "text/plain": [
       "\u001b[1;36m[\u001b[0m\u001b[36mINIT\u001b[0m\u001b[1;36m]\u001b[0m\u001b[36m...\u001b[0m\u001b[36m. → Crawl4AI \u001b[0m\u001b[1;36m0.6\u001b[0m\u001b[36m.\u001b[0m\u001b[1;36m3\u001b[0m\u001b[36m \u001b[0m\n"
      ]
     },
     "metadata": {},
     "output_type": "display_data"
    },
    {
     "data": {
      "text/html": [
       "<pre style=\"white-space:pre;overflow-x:auto;line-height:normal;font-family:Menlo,'DejaVu Sans Mono',consolas,'Courier New',monospace\"><span style=\"color: #008000; text-decoration-color: #008000; font-weight: bold\">[</span><span style=\"color: #008000; text-decoration-color: #008000\">FETCH</span><span style=\"color: #008000; text-decoration-color: #008000; font-weight: bold\">]</span><span style=\"color: #008000; text-decoration-color: #008000\">... ↓ </span><span style=\"color: #008000; text-decoration-color: #008000; text-decoration: underline\">https://mushfiqur-rahman-robin.github.io/</span><span style=\"color: #008000; text-decoration-color: #008000\">                                                            |</span>\n",
       "<span style=\"color: #008000; text-decoration-color: #008000\">✓ | ⏱: </span><span style=\"color: #008000; text-decoration-color: #008000; font-weight: bold\">1.</span><span style=\"color: #008000; text-decoration-color: #008000\">20s </span>\n",
       "</pre>\n"
      ],
      "text/plain": [
       "\u001b[1;32m[\u001b[0m\u001b[32mFETCH\u001b[0m\u001b[1;32m]\u001b[0m\u001b[32m...\u001b[0m\u001b[32m ↓ \u001b[0m\u001b[4;32mhttps://mushfiqur-rahman-robin.github.io/\u001b[0m\u001b[32m                                                            |\u001b[0m\n",
       "\u001b[32m✓\u001b[0m\u001b[32m | ⏱: \u001b[0m\u001b[1;32m1.\u001b[0m\u001b[32m20s \u001b[0m\n"
      ]
     },
     "metadata": {},
     "output_type": "display_data"
    },
    {
     "data": {
      "text/html": [
       "<pre style=\"white-space:pre;overflow-x:auto;line-height:normal;font-family:Menlo,'DejaVu Sans Mono',consolas,'Courier New',monospace\"><span style=\"color: #008000; text-decoration-color: #008000; font-weight: bold\">[</span><span style=\"color: #008000; text-decoration-color: #008000\">SCRAPE</span><span style=\"color: #008000; text-decoration-color: #008000; font-weight: bold\">]</span><span style=\"color: #008000; text-decoration-color: #008000\">.. ◆ </span><span style=\"color: #008000; text-decoration-color: #008000; text-decoration: underline\">https://mushfiqur-rahman-robin.github.io/</span><span style=\"color: #008000; text-decoration-color: #008000\">                                                            |</span>\n",
       "<span style=\"color: #008000; text-decoration-color: #008000\">✓ | ⏱: </span><span style=\"color: #008000; text-decoration-color: #008000; font-weight: bold\">0.</span><span style=\"color: #008000; text-decoration-color: #008000\">04s </span>\n",
       "</pre>\n"
      ],
      "text/plain": [
       "\u001b[1;32m[\u001b[0m\u001b[32mSCRAPE\u001b[0m\u001b[1;32m]\u001b[0m\u001b[32m.. ◆ \u001b[0m\u001b[4;32mhttps://mushfiqur-rahman-robin.github.io/\u001b[0m\u001b[32m                                                            |\u001b[0m\n",
       "\u001b[32m✓\u001b[0m\u001b[32m | ⏱: \u001b[0m\u001b[1;32m0.\u001b[0m\u001b[32m04s \u001b[0m\n"
      ]
     },
     "metadata": {},
     "output_type": "display_data"
    },
    {
     "data": {
      "text/html": [
       "<pre style=\"white-space:pre;overflow-x:auto;line-height:normal;font-family:Menlo,'DejaVu Sans Mono',consolas,'Courier New',monospace\"><span style=\"color: #008000; text-decoration-color: #008000; font-weight: bold\">[</span><span style=\"color: #008000; text-decoration-color: #008000\">COMPLETE</span><span style=\"color: #008000; text-decoration-color: #008000; font-weight: bold\">]</span><span style=\"color: #008000; text-decoration-color: #008000\"> ● </span><span style=\"color: #008000; text-decoration-color: #008000; text-decoration: underline\">https://mushfiqur-rahman-robin.github.io/</span><span style=\"color: #008000; text-decoration-color: #008000\">                                                            |</span>\n",
       "<span style=\"color: #008000; text-decoration-color: #008000\">✓ | ⏱: </span><span style=\"color: #008000; text-decoration-color: #008000; font-weight: bold\">1.</span><span style=\"color: #008000; text-decoration-color: #008000\">29s </span>\n",
       "</pre>\n"
      ],
      "text/plain": [
       "\u001b[1;32m[\u001b[0m\u001b[32mCOMPLETE\u001b[0m\u001b[1;32m]\u001b[0m\u001b[32m ● \u001b[0m\u001b[4;32mhttps://mushfiqur-rahman-robin.github.io/\u001b[0m\u001b[32m                                                            |\u001b[0m\n",
       "\u001b[32m✓\u001b[0m\u001b[32m | ⏱: \u001b[0m\u001b[1;32m1.\u001b[0m\u001b[32m29s \u001b[0m\n"
      ]
     },
     "metadata": {},
     "output_type": "display_data"
    },
    {
     "name": "stdout",
     "output_type": "stream",
     "text": [
      "[ Md. Mushfiqur Rahman ](https://Mushfiqur-Rahman-Robin.github.io/) --   * [ About Me ](https://Mushfiqur-Rahman-Robin.github.io/about/ \"About Me page\") --   * [ Achievements ](https://Mushfiqur-Rahman-Robin.github.io/achievements/ \"Achievements page\") --   * [ Certifications ](https://Mushfiqur-Rahman-Robin.github.io/certifications/ \"Certifications page\") --   * [ Contact Me ](https://Mushfiqur-Rahman-Robin.github.io/contact/ \"Contact Me page\") --   * [ Projects ](https://Mushfiqur-Rahman-Robin.github.io/post\n"
     ]
    }
   ],
   "source": [
    "from crawl4ai import AsyncWebCrawler, BrowserConfig, CrawlerRunConfig, CacheMode\n",
    "\n",
    "async def simple_crawl():\n",
    "    crawler_run_config = CrawlerRunConfig(cache_mode=CacheMode.ENABLED) # CacheMode.BYPASS means no cache will be used.\n",
    "    async with AsyncWebCrawler() as crawler:\n",
    "        result = await crawler.arun(\n",
    "            url=\"https://mushfiqur-rahman-robin.github.io/\",\n",
    "            config=crawler_run_config\n",
    "        )\n",
    "        print(result.markdown.raw_markdown[:500].replace(\"\\n\", \" -- \"))  # Print the first 500 characters\n",
    "\n",
    "asyncio.run(simple_crawl())"
   ]
  },
  {
   "cell_type": "markdown",
   "id": "5d3f3377",
   "metadata": {},
   "source": [
    "# dynamic content crawling"
   ]
  },
  {
   "cell_type": "code",
   "execution_count": 12,
   "id": "f2df9e79",
   "metadata": {},
   "outputs": [
    {
     "data": {
      "text/html": [
       "<pre style=\"white-space:pre;overflow-x:auto;line-height:normal;font-family:Menlo,'DejaVu Sans Mono',consolas,'Courier New',monospace\"><span style=\"color: #008080; text-decoration-color: #008080; font-weight: bold\">[</span><span style=\"color: #008080; text-decoration-color: #008080\">INIT</span><span style=\"color: #008080; text-decoration-color: #008080; font-weight: bold\">]</span><span style=\"color: #008080; text-decoration-color: #008080\">.... → Crawl4AI </span><span style=\"color: #008080; text-decoration-color: #008080; font-weight: bold\">0.6</span><span style=\"color: #008080; text-decoration-color: #008080\">.</span><span style=\"color: #008080; text-decoration-color: #008080; font-weight: bold\">3</span><span style=\"color: #008080; text-decoration-color: #008080\"> </span>\n",
       "</pre>\n"
      ],
      "text/plain": [
       "\u001b[1;36m[\u001b[0m\u001b[36mINIT\u001b[0m\u001b[1;36m]\u001b[0m\u001b[36m...\u001b[0m\u001b[36m. → Crawl4AI \u001b[0m\u001b[1;36m0.6\u001b[0m\u001b[36m.\u001b[0m\u001b[1;36m3\u001b[0m\u001b[36m \u001b[0m\n"
      ]
     },
     "metadata": {},
     "output_type": "display_data"
    },
    {
     "data": {
      "text/html": [
       "<pre style=\"white-space:pre;overflow-x:auto;line-height:normal;font-family:Menlo,'DejaVu Sans Mono',consolas,'Courier New',monospace\"><span style=\"color: #008000; text-decoration-color: #008000; font-weight: bold\">[</span><span style=\"color: #008000; text-decoration-color: #008000\">FETCH</span><span style=\"color: #008000; text-decoration-color: #008000; font-weight: bold\">]</span><span style=\"color: #008000; text-decoration-color: #008000\">... ↓ </span><span style=\"color: #008000; text-decoration-color: #008000; text-decoration: underline\">https://www.nbcnews.com/business</span><span style=\"color: #008000; text-decoration-color: #008000\">                                                                     |</span>\n",
       "<span style=\"color: #008000; text-decoration-color: #008000\">✓ | ⏱: </span><span style=\"color: #008000; text-decoration-color: #008000; font-weight: bold\">0.</span><span style=\"color: #008000; text-decoration-color: #008000\">02s </span>\n",
       "</pre>\n"
      ],
      "text/plain": [
       "\u001b[1;32m[\u001b[0m\u001b[32mFETCH\u001b[0m\u001b[1;32m]\u001b[0m\u001b[32m...\u001b[0m\u001b[32m ↓ \u001b[0m\u001b[4;32mhttps://www.nbcnews.com/business\u001b[0m\u001b[32m                                                                     |\u001b[0m\n",
       "\u001b[32m✓\u001b[0m\u001b[32m | ⏱: \u001b[0m\u001b[1;32m0.\u001b[0m\u001b[32m02s \u001b[0m\n"
      ]
     },
     "metadata": {},
     "output_type": "display_data"
    },
    {
     "data": {
      "text/html": [
       "<pre style=\"white-space:pre;overflow-x:auto;line-height:normal;font-family:Menlo,'DejaVu Sans Mono',consolas,'Courier New',monospace\"><span style=\"color: #008000; text-decoration-color: #008000; font-weight: bold\">[</span><span style=\"color: #008000; text-decoration-color: #008000\">COMPLETE</span><span style=\"color: #008000; text-decoration-color: #008000; font-weight: bold\">]</span><span style=\"color: #008000; text-decoration-color: #008000\"> ● </span><span style=\"color: #008000; text-decoration-color: #008000; text-decoration: underline\">https://www.nbcnews.com/business</span><span style=\"color: #008000; text-decoration-color: #008000\">                                                                     |</span>\n",
       "<span style=\"color: #008000; text-decoration-color: #008000\">✓ | ⏱: </span><span style=\"color: #008000; text-decoration-color: #008000; font-weight: bold\">0.</span><span style=\"color: #008000; text-decoration-color: #008000\">02s </span>\n",
       "</pre>\n"
      ],
      "text/plain": [
       "\u001b[1;32m[\u001b[0m\u001b[32mCOMPLETE\u001b[0m\u001b[1;32m]\u001b[0m\u001b[32m ● \u001b[0m\u001b[4;32mhttps://www.nbcnews.com/business\u001b[0m\u001b[32m                                                                     |\u001b[0m\n",
       "\u001b[32m✓\u001b[0m\u001b[32m | ⏱: \u001b[0m\u001b[1;32m0.\u001b[0m\u001b[32m02s \u001b[0m\n"
      ]
     },
     "metadata": {},
     "output_type": "display_data"
    },
    {
     "name": "stdout",
     "output_type": "stream",
     "text": [
      "IE 11 is not supported. For an optimal experience visit our site on another browser. -- Skip to Content -- [NBC News Logo](https://www.nbcnews.com) -- Sponsored By --   * [ Politics](https://www.nbcnews.com/politics) --   * Local --   * [New York](https://www.nbcnews.com/new-york) --   * [Los Angeles](https://www.nbcnews.com/los-angeles) --   * [Chicago](https://www.nbcnews.com/chicago) --   * [Dallas-Fort Worth](https://www.nbcnews.com/dallas-fort-worth) --   * [Philadelphia](https://www.nbcnews.com/philadelphia) --   * [Washi\n"
     ]
    }
   ],
   "source": [
    "async def crawl_dynamic_content():\n",
    "    # You can use wait_for to wait for a condition to be met before returning the result\n",
    "    # wait_for = \"\"\"() => {\n",
    "    #     return Array.from(document.querySelectorAll('article.tease-card')).length > 10;\n",
    "    # }\"\"\"\n",
    "\n",
    "    # wait_for can be also just a css selector\n",
    "    # wait_for = \"article.tease-card:nth-child(10)\"\n",
    "\n",
    "    async with AsyncWebCrawler() as crawler:\n",
    "        js_code = [\n",
    "            \"\"\"\n",
    "            var btns = document.querySelectorAll('button');\n",
    "            for (var i = 0; i < btns.length; i++) {\n",
    "                if (btns[i].textContent.includes('Load More')) {\n",
    "                    btns[i].click();\n",
    "                    break;\n",
    "                }\n",
    "            }\n",
    "            \"\"\"\n",
    "        ]\n",
    "        # the js_code parameter lets you run custom JavaScript code in the context of the web page before scraping. \n",
    "        # This is especially useful for interacting with dynamic web content — things like clicking buttons, filling forms, or waiting for data to load via JavaScript.\n",
    "        config = CrawlerRunConfig(\n",
    "            cache_mode=CacheMode.ENABLED,\n",
    "            js_code=js_code,\n",
    "            # wait_for=wait_for,\n",
    "        )\n",
    "        result = await crawler.arun(\n",
    "            url=\"https://www.nbcnews.com/business\",\n",
    "            config=config,\n",
    "\n",
    "        )\n",
    "        print(result.markdown.raw_markdown[:500].replace(\"\\n\", \" -- \"))  # Print first 500 characters\n",
    "\n",
    "asyncio.run(crawl_dynamic_content())"
   ]
  },
  {
   "cell_type": "markdown",
   "id": "5a19a0bf",
   "metadata": {},
   "source": [
    "# content cleaning"
   ]
  },
  {
   "cell_type": "code",
   "execution_count": 14,
   "id": "98d5f5b9",
   "metadata": {},
   "outputs": [
    {
     "data": {
      "text/html": [
       "<pre style=\"white-space:pre;overflow-x:auto;line-height:normal;font-family:Menlo,'DejaVu Sans Mono',consolas,'Courier New',monospace\"><span style=\"color: #008080; text-decoration-color: #008080; font-weight: bold\">[</span><span style=\"color: #008080; text-decoration-color: #008080\">INIT</span><span style=\"color: #008080; text-decoration-color: #008080; font-weight: bold\">]</span><span style=\"color: #008080; text-decoration-color: #008080\">.... → Crawl4AI </span><span style=\"color: #008080; text-decoration-color: #008080; font-weight: bold\">0.6</span><span style=\"color: #008080; text-decoration-color: #008080\">.</span><span style=\"color: #008080; text-decoration-color: #008080; font-weight: bold\">3</span><span style=\"color: #008080; text-decoration-color: #008080\"> </span>\n",
       "</pre>\n"
      ],
      "text/plain": [
       "\u001b[1;36m[\u001b[0m\u001b[36mINIT\u001b[0m\u001b[1;36m]\u001b[0m\u001b[36m...\u001b[0m\u001b[36m. → Crawl4AI \u001b[0m\u001b[1;36m0.6\u001b[0m\u001b[36m.\u001b[0m\u001b[1;36m3\u001b[0m\u001b[36m \u001b[0m\n"
      ]
     },
     "metadata": {},
     "output_type": "display_data"
    },
    {
     "data": {
      "text/html": [
       "<pre style=\"white-space:pre;overflow-x:auto;line-height:normal;font-family:Menlo,'DejaVu Sans Mono',consolas,'Courier New',monospace\"><span style=\"color: #008000; text-decoration-color: #008000; font-weight: bold\">[</span><span style=\"color: #008000; text-decoration-color: #008000\">FETCH</span><span style=\"color: #008000; text-decoration-color: #008000; font-weight: bold\">]</span><span style=\"color: #008000; text-decoration-color: #008000\">... ↓ </span><span style=\"color: #008000; text-decoration-color: #008000; text-decoration: underline\">https://en.wikipedia.org/wiki/Apple</span><span style=\"color: #008000; text-decoration-color: #008000\">                                                                  |</span>\n",
       "<span style=\"color: #008000; text-decoration-color: #008000\">✓ | ⏱: </span><span style=\"color: #008000; text-decoration-color: #008000; font-weight: bold\">0.</span><span style=\"color: #008000; text-decoration-color: #008000\">02s </span>\n",
       "</pre>\n"
      ],
      "text/plain": [
       "\u001b[1;32m[\u001b[0m\u001b[32mFETCH\u001b[0m\u001b[1;32m]\u001b[0m\u001b[32m...\u001b[0m\u001b[32m ↓ \u001b[0m\u001b[4;32mhttps://en.wikipedia.org/wiki/Apple\u001b[0m\u001b[32m                                                                  |\u001b[0m\n",
       "\u001b[32m✓\u001b[0m\u001b[32m | ⏱: \u001b[0m\u001b[1;32m0.\u001b[0m\u001b[32m02s \u001b[0m\n"
      ]
     },
     "metadata": {},
     "output_type": "display_data"
    },
    {
     "data": {
      "text/html": [
       "<pre style=\"white-space:pre;overflow-x:auto;line-height:normal;font-family:Menlo,'DejaVu Sans Mono',consolas,'Courier New',monospace\"><span style=\"color: #008000; text-decoration-color: #008000; font-weight: bold\">[</span><span style=\"color: #008000; text-decoration-color: #008000\">COMPLETE</span><span style=\"color: #008000; text-decoration-color: #008000; font-weight: bold\">]</span><span style=\"color: #008000; text-decoration-color: #008000\"> ● </span><span style=\"color: #008000; text-decoration-color: #008000; text-decoration: underline\">https://en.wikipedia.org/wiki/Apple</span><span style=\"color: #008000; text-decoration-color: #008000\">                                                                  |</span>\n",
       "<span style=\"color: #008000; text-decoration-color: #008000\">✓ | ⏱: </span><span style=\"color: #008000; text-decoration-color: #008000; font-weight: bold\">0.</span><span style=\"color: #008000; text-decoration-color: #008000\">02s </span>\n",
       "</pre>\n"
      ],
      "text/plain": [
       "\u001b[1;32m[\u001b[0m\u001b[32mCOMPLETE\u001b[0m\u001b[1;32m]\u001b[0m\u001b[32m ● \u001b[0m\u001b[4;32mhttps://en.wikipedia.org/wiki/Apple\u001b[0m\u001b[32m                                                                  |\u001b[0m\n",
       "\u001b[32m✓\u001b[0m\u001b[32m | ⏱: \u001b[0m\u001b[1;32m0.\u001b[0m\u001b[32m02s \u001b[0m\n"
      ]
     },
     "metadata": {},
     "output_type": "display_data"
    },
    {
     "name": "stdout",
     "output_type": "stream",
     "text": [
      "Full Markdown Length: 92190\n",
      "Fit Markdown Length: 0\n"
     ]
    }
   ],
   "source": [
    "from crawl4ai.content_filter_strategy import PruningContentFilter\n",
    "from crawl4ai.markdown_generation_strategy import DefaultMarkdownGenerator\n",
    "\n",
    "async def clean_content():\n",
    "    async with AsyncWebCrawler(verbose=True) as crawler:\n",
    "        config = CrawlerRunConfig(\n",
    "            cache_mode=CacheMode.ENABLED,\n",
    "            excluded_tags=['nav', 'footer', 'aside'],\n",
    "            remove_overlay_elements=True,\n",
    "            # excluded_tags: Removes HTML sections like <nav>, <footer>, and <aside> (often boilerplate or repeated UI).\n",
    "            # remove_overlay_elements=True: Automatically removes modal overlays/popups, like cookie consent banners.\n",
    "            markdown_generator=DefaultMarkdownGenerator(\n",
    "                content_filter=PruningContentFilter(threshold=0.48, threshold_type=\"fixed\", min_word_threshold=0),\n",
    "                options={\n",
    "                    \"ignore_links\": True\n",
    "                }\n",
    "            ),\n",
    "        )\n",
    "        result = await crawler.arun(\n",
    "            url=\"https://en.wikipedia.org/wiki/Apple\",\n",
    "            config=config,\n",
    "        )\n",
    "        full_markdown_length = len(result.markdown.raw_markdown)\n",
    "        fit_markdown_length = len(result.markdown.fit_markdown)\n",
    "        print(f\"Full Markdown Length: {full_markdown_length}\")\n",
    "        print(f\"Fit Markdown Length: {fit_markdown_length}\")\n",
    "\n",
    "        with open(\"output/apple_markdown.md\", \"w\") as f:\n",
    "            f.write(result.markdown.fit_markdown)\n",
    "\n",
    "# This code:\n",
    "# Visits a webpage (Wikipedia on Apple 🍎)\n",
    "# Cleans it (removes UI elements and overlays)\n",
    "# Converts it into clean, minimal markdown\n",
    "# Filters low-value content (using a scoring mechanism)\n",
    "# Returns both the full and filtered markdown lengths\n",
    "\n",
    "\n",
    "asyncio.run(clean_content())"
   ]
  },
  {
   "cell_type": "markdown",
   "id": "23d59b8b",
   "metadata": {},
   "source": [
    "# link analysis"
   ]
  },
  {
   "cell_type": "code",
   "execution_count": 21,
   "id": "25f8c38d",
   "metadata": {},
   "outputs": [
    {
     "data": {
      "text/html": [
       "<pre style=\"white-space:pre;overflow-x:auto;line-height:normal;font-family:Menlo,'DejaVu Sans Mono',consolas,'Courier New',monospace\"><span style=\"color: #008080; text-decoration-color: #008080; font-weight: bold\">[</span><span style=\"color: #008080; text-decoration-color: #008080\">INIT</span><span style=\"color: #008080; text-decoration-color: #008080; font-weight: bold\">]</span><span style=\"color: #008080; text-decoration-color: #008080\">.... → Crawl4AI </span><span style=\"color: #008080; text-decoration-color: #008080; font-weight: bold\">0.6</span><span style=\"color: #008080; text-decoration-color: #008080\">.</span><span style=\"color: #008080; text-decoration-color: #008080; font-weight: bold\">3</span><span style=\"color: #008080; text-decoration-color: #008080\"> </span>\n",
       "</pre>\n"
      ],
      "text/plain": [
       "\u001b[1;36m[\u001b[0m\u001b[36mINIT\u001b[0m\u001b[1;36m]\u001b[0m\u001b[36m...\u001b[0m\u001b[36m. → Crawl4AI \u001b[0m\u001b[1;36m0.6\u001b[0m\u001b[36m.\u001b[0m\u001b[1;36m3\u001b[0m\u001b[36m \u001b[0m\n"
      ]
     },
     "metadata": {},
     "output_type": "display_data"
    },
    {
     "data": {
      "text/html": [
       "<pre style=\"white-space:pre;overflow-x:auto;line-height:normal;font-family:Menlo,'DejaVu Sans Mono',consolas,'Courier New',monospace\"><span style=\"color: #008000; text-decoration-color: #008000; font-weight: bold\">[</span><span style=\"color: #008000; text-decoration-color: #008000\">FETCH</span><span style=\"color: #008000; text-decoration-color: #008000; font-weight: bold\">]</span><span style=\"color: #008000; text-decoration-color: #008000\">... ↓ </span><span style=\"color: #008000; text-decoration-color: #008000; text-decoration: underline\">https://www.nbcnews.com/business</span><span style=\"color: #008000; text-decoration-color: #008000\">                                                                     |</span>\n",
       "<span style=\"color: #008000; text-decoration-color: #008000\">✓ | ⏱: </span><span style=\"color: #008000; text-decoration-color: #008000; font-weight: bold\">0.</span><span style=\"color: #008000; text-decoration-color: #008000\">01s </span>\n",
       "</pre>\n"
      ],
      "text/plain": [
       "\u001b[1;32m[\u001b[0m\u001b[32mFETCH\u001b[0m\u001b[1;32m]\u001b[0m\u001b[32m...\u001b[0m\u001b[32m ↓ \u001b[0m\u001b[4;32mhttps://www.nbcnews.com/business\u001b[0m\u001b[32m                                                                     |\u001b[0m\n",
       "\u001b[32m✓\u001b[0m\u001b[32m | ⏱: \u001b[0m\u001b[1;32m0.\u001b[0m\u001b[32m01s \u001b[0m\n"
      ]
     },
     "metadata": {},
     "output_type": "display_data"
    },
    {
     "data": {
      "text/html": [
       "<pre style=\"white-space:pre;overflow-x:auto;line-height:normal;font-family:Menlo,'DejaVu Sans Mono',consolas,'Courier New',monospace\"><span style=\"color: #008000; text-decoration-color: #008000; font-weight: bold\">[</span><span style=\"color: #008000; text-decoration-color: #008000\">COMPLETE</span><span style=\"color: #008000; text-decoration-color: #008000; font-weight: bold\">]</span><span style=\"color: #008000; text-decoration-color: #008000\"> ● </span><span style=\"color: #008000; text-decoration-color: #008000; text-decoration: underline\">https://www.nbcnews.com/business</span><span style=\"color: #008000; text-decoration-color: #008000\">                                                                     |</span>\n",
       "<span style=\"color: #008000; text-decoration-color: #008000\">✓ | ⏱: </span><span style=\"color: #008000; text-decoration-color: #008000; font-weight: bold\">0.</span><span style=\"color: #008000; text-decoration-color: #008000\">02s </span>\n",
       "</pre>\n"
      ],
      "text/plain": [
       "\u001b[1;32m[\u001b[0m\u001b[32mCOMPLETE\u001b[0m\u001b[1;32m]\u001b[0m\u001b[32m ● \u001b[0m\u001b[4;32mhttps://www.nbcnews.com/business\u001b[0m\u001b[32m                                                                     |\u001b[0m\n",
       "\u001b[32m✓\u001b[0m\u001b[32m | ⏱: \u001b[0m\u001b[1;32m0.\u001b[0m\u001b[32m02s \u001b[0m\n"
      ]
     },
     "metadata": {},
     "output_type": "display_data"
    },
    {
     "name": "stdout",
     "output_type": "stream",
     "text": [
      "Found 109 internal links\n",
      "Found 56 external links\n",
      "Href: https://www.nbcnews.com\n",
      "Text: NBC News Logo\n",
      "\n",
      "Href: https://www.nbcnews.com/politics\n",
      "Text: Politics\n",
      "\n",
      "Href: https://www.nbcnews.com/new-york\n",
      "Text: New York\n",
      "\n",
      "Href: https://www.nbcnews.com/los-angeles\n",
      "Text: Los Angeles\n",
      "\n",
      "Href: https://www.nbcnews.com/chicago\n",
      "Text: Chicago\n",
      "\n",
      "External Href: https://www.facebook.com/sharer/sharer.php?u=null&cid=article_share_facebook\n",
      "Text: \n",
      "\n",
      "External Href: https://x.com/intent/post?text=&via=nbcnews&url=null&original_referer=URL&cid=article_share_twitter\n",
      "Text: \n",
      "\n",
      "External Href: mailto:?subject=&body=null\n",
      "Text: \n",
      "\n",
      "External Href: https://www.today.com/\n",
      "Text: Today\n",
      "\n",
      "External Href: https://www.msnbc.com/\n",
      "Text: MSNBC\n",
      "\n"
     ]
    }
   ],
   "source": [
    "async def link_analysis():\n",
    "    async with AsyncWebCrawler() as crawler:\n",
    "        config = CrawlerRunConfig(\n",
    "            cache_mode=CacheMode.ENABLED,\n",
    "            exclude_external_links=False,  # If you want to collect & save them\n",
    "            exclude_social_media_links=True,\n",
    "            exclude_domains=[\"facebook.com\", \"twitter.com\"]\n",
    "        )\n",
    "        result = await crawler.arun(\n",
    "            url=\"https://www.nbcnews.com/business\",\n",
    "            config=config,\n",
    "        )\n",
    "\n",
    "        internal_links = result.links.get('internal', [])\n",
    "        external_links = result.links.get('external', [])\n",
    "\n",
    "        print(f\"Found {len(internal_links)} internal links\")\n",
    "        print(f\"Found {len(external_links)} external links\")\n",
    "\n",
    "        with open(\"output/link_analysis_markdown.md\", \"w\") as f:\n",
    "            f.write(\"# Internal Links\\n\")\n",
    "            for link in internal_links:\n",
    "                f.write(f\"- [{link['text']}]({link['href']})\\n\")\n",
    "\n",
    "            f.write(\"\\n# External Links\\n\")\n",
    "            for link in external_links:\n",
    "                f.write(f\"- [{link['text']}]({link['href']})\\n\")\n",
    "\n",
    "        for link in internal_links[:5]:\n",
    "            print(f\"Href: {link['href']}\\nText: {link['text']}\\n\")\n",
    "\n",
    "        for link in external_links[:5]:\n",
    "            print(f\"External Href: {link['href']}\\nText: {link['text']}\\n\")\n",
    "\n",
    "\n",
    "asyncio.run(link_analysis())"
   ]
  },
  {
   "cell_type": "markdown",
   "id": "aeaac579",
   "metadata": {},
   "source": [
    "# media handling"
   ]
  },
  {
   "cell_type": "code",
   "execution_count": 40,
   "id": "cb921fd8",
   "metadata": {},
   "outputs": [
    {
     "data": {
      "text/html": [
       "<pre style=\"white-space:pre;overflow-x:auto;line-height:normal;font-family:Menlo,'DejaVu Sans Mono',consolas,'Courier New',monospace\"><span style=\"color: #008080; text-decoration-color: #008080; font-weight: bold\">[</span><span style=\"color: #008080; text-decoration-color: #008080\">INIT</span><span style=\"color: #008080; text-decoration-color: #008080; font-weight: bold\">]</span><span style=\"color: #008080; text-decoration-color: #008080\">.... → Crawl4AI </span><span style=\"color: #008080; text-decoration-color: #008080; font-weight: bold\">0.6</span><span style=\"color: #008080; text-decoration-color: #008080\">.</span><span style=\"color: #008080; text-decoration-color: #008080; font-weight: bold\">3</span><span style=\"color: #008080; text-decoration-color: #008080\"> </span>\n",
       "</pre>\n"
      ],
      "text/plain": [
       "\u001b[1;36m[\u001b[0m\u001b[36mINIT\u001b[0m\u001b[1;36m]\u001b[0m\u001b[36m...\u001b[0m\u001b[36m. → Crawl4AI \u001b[0m\u001b[1;36m0.6\u001b[0m\u001b[36m.\u001b[0m\u001b[1;36m3\u001b[0m\u001b[36m \u001b[0m\n"
      ]
     },
     "metadata": {},
     "output_type": "display_data"
    },
    {
     "data": {
      "text/html": [
       "<pre style=\"white-space:pre;overflow-x:auto;line-height:normal;font-family:Menlo,'DejaVu Sans Mono',consolas,'Courier New',monospace\"><span style=\"color: #008000; text-decoration-color: #008000; font-weight: bold\">[</span><span style=\"color: #008000; text-decoration-color: #008000\">FETCH</span><span style=\"color: #008000; text-decoration-color: #008000; font-weight: bold\">]</span><span style=\"color: #008000; text-decoration-color: #008000\">... ↓ </span><span style=\"color: #008000; text-decoration-color: #008000; text-decoration: underline\">https://mushfiqur-rahman-robin.github.io/publications/</span><span style=\"color: #008000; text-decoration-color: #008000\">                                               |</span>\n",
       "<span style=\"color: #008000; text-decoration-color: #008000\">✓ | ⏱: </span><span style=\"color: #008000; text-decoration-color: #008000; font-weight: bold\">0.</span><span style=\"color: #008000; text-decoration-color: #008000\">01s </span>\n",
       "</pre>\n"
      ],
      "text/plain": [
       "\u001b[1;32m[\u001b[0m\u001b[32mFETCH\u001b[0m\u001b[1;32m]\u001b[0m\u001b[32m...\u001b[0m\u001b[32m ↓ \u001b[0m\u001b[4;32mhttps://mushfiqur-rahman-robin.github.io/publications/\u001b[0m\u001b[32m                                               |\u001b[0m\n",
       "\u001b[32m✓\u001b[0m\u001b[32m | ⏱: \u001b[0m\u001b[1;32m0.\u001b[0m\u001b[32m01s \u001b[0m\n"
      ]
     },
     "metadata": {},
     "output_type": "display_data"
    },
    {
     "data": {
      "text/html": [
       "<pre style=\"white-space:pre;overflow-x:auto;line-height:normal;font-family:Menlo,'DejaVu Sans Mono',consolas,'Courier New',monospace\"><span style=\"color: #008000; text-decoration-color: #008000; font-weight: bold\">[</span><span style=\"color: #008000; text-decoration-color: #008000\">COMPLETE</span><span style=\"color: #008000; text-decoration-color: #008000; font-weight: bold\">]</span><span style=\"color: #008000; text-decoration-color: #008000\"> ● </span><span style=\"color: #008000; text-decoration-color: #008000; text-decoration: underline\">https://mushfiqur-rahman-robin.github.io/publications/</span><span style=\"color: #008000; text-decoration-color: #008000\">                                               |</span>\n",
       "<span style=\"color: #008000; text-decoration-color: #008000\">✓ | ⏱: </span><span style=\"color: #008000; text-decoration-color: #008000; font-weight: bold\">0.</span><span style=\"color: #008000; text-decoration-color: #008000\">01s </span>\n",
       "</pre>\n"
      ],
      "text/plain": [
       "\u001b[1;32m[\u001b[0m\u001b[32mCOMPLETE\u001b[0m\u001b[1;32m]\u001b[0m\u001b[32m ● \u001b[0m\u001b[4;32mhttps://mushfiqur-rahman-robin.github.io/publications/\u001b[0m\u001b[32m                                               |\u001b[0m\n",
       "\u001b[32m✓\u001b[0m\u001b[32m | ⏱: \u001b[0m\u001b[1;32m0.\u001b[0m\u001b[32m01s \u001b[0m\n"
      ]
     },
     "metadata": {},
     "output_type": "display_data"
    },
    {
     "name": "stdout",
     "output_type": "stream",
     "text": [
      "Image URL: https://Mushfiqur-Rahman-Robin.github.io/images/BIMConference.PNG, Alt: , Score: 2\n",
      "Image URL: https://Mushfiqur-Rahman-Robin.github.io/images/EICT_presentation_certificate.PNG, Alt: , Score: 1\n"
     ]
    }
   ],
   "source": [
    "import os\n",
    "async def media_handling():\n",
    "    os.makedirs(\"output/media\", exist_ok=True)\n",
    "\n",
    "    async with AsyncWebCrawler() as crawler:\n",
    "        config = CrawlerRunConfig(\n",
    "            cache_mode=CacheMode.ENABLED,\n",
    "            exclude_external_images=False,\n",
    "            screenshot=False,  # No screenshot needed\n",
    "            image_score_threshold=0.5,\n",
    "            exclude_internal_links=False\n",
    "        )\n",
    "        result = await crawler.arun(\n",
    "            url=\"https://mushfiqur-rahman-robin.github.io/publications/\",\n",
    "            config=config,\n",
    "        )\n",
    "\n",
    "        for img in result.media['images'][:5]:\n",
    "            print(f\"Image URL: {img['src']}, Alt: {img['alt']}, Score: {img['score']}\")\n",
    "\n",
    "        markdown_lines = [\"# 🖼️ All Images from the Website\\n\"]\n",
    "\n",
    "        all_images = result.media.get('images', [])\n",
    "\n",
    "        if not all_images:\n",
    "            markdown_lines.append(\"_No images found on the page._\")\n",
    "        else:\n",
    "            for i, img in enumerate(all_images):\n",
    "                image_url = img['src']\n",
    "                alt_text = img.get('alt', 'No alt text')\n",
    "                score = img.get('score', 0)\n",
    "\n",
    "                markdown_lines.append(f\"### Image {i+1}\")\n",
    "                markdown_lines.append(f\"- **Alt**: {alt_text}\")\n",
    "                markdown_lines.append(f\"- **Score**: {score}\")\n",
    "                markdown_lines.append(f\"- **Link**: [{image_url}]({image_url})\")\n",
    "                markdown_lines.append(f\"![Image {i+1}]({image_url})\\n\")\n",
    "\n",
    "        with open(\"output/media_summary.md\", \"w\") as md_file:\n",
    "            md_file.write(\"\\n\".join(markdown_lines))\n",
    "\n",
    "asyncio.run(media_handling())"
   ]
  },
  {
   "cell_type": "code",
   "execution_count": 36,
   "id": "cf473b4f",
   "metadata": {},
   "outputs": [
    {
     "data": {
      "text/html": [
       "<pre style=\"white-space:pre;overflow-x:auto;line-height:normal;font-family:Menlo,'DejaVu Sans Mono',consolas,'Courier New',monospace\"><span style=\"color: #008080; text-decoration-color: #008080; font-weight: bold\">[</span><span style=\"color: #008080; text-decoration-color: #008080\">INIT</span><span style=\"color: #008080; text-decoration-color: #008080; font-weight: bold\">]</span><span style=\"color: #008080; text-decoration-color: #008080\">.... → Crawl4AI </span><span style=\"color: #008080; text-decoration-color: #008080; font-weight: bold\">0.6</span><span style=\"color: #008080; text-decoration-color: #008080\">.</span><span style=\"color: #008080; text-decoration-color: #008080; font-weight: bold\">3</span><span style=\"color: #008080; text-decoration-color: #008080\"> </span>\n",
       "</pre>\n"
      ],
      "text/plain": [
       "\u001b[1;36m[\u001b[0m\u001b[36mINIT\u001b[0m\u001b[1;36m]\u001b[0m\u001b[36m...\u001b[0m\u001b[36m. → Crawl4AI \u001b[0m\u001b[1;36m0.6\u001b[0m\u001b[36m.\u001b[0m\u001b[1;36m3\u001b[0m\u001b[36m \u001b[0m\n"
      ]
     },
     "metadata": {},
     "output_type": "display_data"
    },
    {
     "data": {
      "text/html": [
       "<pre style=\"white-space:pre;overflow-x:auto;line-height:normal;font-family:Menlo,'DejaVu Sans Mono',consolas,'Courier New',monospace\"><span style=\"color: #008000; text-decoration-color: #008000; font-weight: bold\">[</span><span style=\"color: #008000; text-decoration-color: #008000\">FETCH</span><span style=\"color: #008000; text-decoration-color: #008000; font-weight: bold\">]</span><span style=\"color: #008000; text-decoration-color: #008000\">... ↓ </span><span style=\"color: #008000; text-decoration-color: #008000; text-decoration: underline\">https://www.nbcnews.com/business</span><span style=\"color: #008000; text-decoration-color: #008000\">                                                                     |</span>\n",
       "<span style=\"color: #008000; text-decoration-color: #008000\">✓ | ⏱: </span><span style=\"color: #008000; text-decoration-color: #008000; font-weight: bold\">0.</span><span style=\"color: #008000; text-decoration-color: #008000\">14s </span>\n",
       "</pre>\n"
      ],
      "text/plain": [
       "\u001b[1;32m[\u001b[0m\u001b[32mFETCH\u001b[0m\u001b[1;32m]\u001b[0m\u001b[32m...\u001b[0m\u001b[32m ↓ \u001b[0m\u001b[4;32mhttps://www.nbcnews.com/business\u001b[0m\u001b[32m                                                                     |\u001b[0m\n",
       "\u001b[32m✓\u001b[0m\u001b[32m | ⏱: \u001b[0m\u001b[1;32m0.\u001b[0m\u001b[32m14s \u001b[0m\n"
      ]
     },
     "metadata": {},
     "output_type": "display_data"
    },
    {
     "data": {
      "text/html": [
       "<pre style=\"white-space:pre;overflow-x:auto;line-height:normal;font-family:Menlo,'DejaVu Sans Mono',consolas,'Courier New',monospace\"><span style=\"color: #008000; text-decoration-color: #008000; font-weight: bold\">[</span><span style=\"color: #008000; text-decoration-color: #008000\">COMPLETE</span><span style=\"color: #008000; text-decoration-color: #008000; font-weight: bold\">]</span><span style=\"color: #008000; text-decoration-color: #008000\"> ● </span><span style=\"color: #008000; text-decoration-color: #008000; text-decoration: underline\">https://www.nbcnews.com/business</span><span style=\"color: #008000; text-decoration-color: #008000\">                                                                     |</span>\n",
       "<span style=\"color: #008000; text-decoration-color: #008000\">✓ | ⏱: </span><span style=\"color: #008000; text-decoration-color: #008000; font-weight: bold\">0.</span><span style=\"color: #008000; text-decoration-color: #008000\">15s </span>\n",
       "</pre>\n"
      ],
      "text/plain": [
       "\u001b[1;32m[\u001b[0m\u001b[32mCOMPLETE\u001b[0m\u001b[1;32m]\u001b[0m\u001b[32m ● \u001b[0m\u001b[4;32mhttps://www.nbcnews.com/business\u001b[0m\u001b[32m                                                                     |\u001b[0m\n",
       "\u001b[32m✓\u001b[0m\u001b[32m | ⏱: \u001b[0m\u001b[1;32m0.\u001b[0m\u001b[32m15s \u001b[0m\n"
      ]
     },
     "metadata": {},
     "output_type": "display_data"
    },
    {
     "name": "stdout",
     "output_type": "stream",
     "text": [
      "Image URL: https://media-cldnry.s-nbcnews.com/image/upload/t_focal-762x508,f_auto,q_auto:best/rockcms/2025-06/250602-jamie-dimon-se-517p-f32603.jpg, Alt: Jamie Dimon., Score: 6\n",
      "Image URL: https://media-cldnry.s-nbcnews.com/image/upload/t_focal-762x508,f_auto,q_auto:best/rockcms/2025-05/250514-uber-ch-1315-82ca9e.jpg, Alt: Uber headquarters., Score: 6\n",
      "Image URL: https://media-cldnry.s-nbcnews.com/image/upload/t_focal-80x80,f_auto,q_auto:best/rockcms/2025-05/250516-Musk-RS-cbcca6.jpg, Alt: Elon Musk, Score: 6\n",
      "Image URL: https://media-cldnry.s-nbcnews.com/image/upload/t_focal-80x80,f_auto,q_auto:best/rockcms/2025-06/250602-empty-office-stock-se-505p-55a14f.jpg, Alt: Empty table and chair against window at new workplace, Score: 6\n",
      "Image URL: https://media-cldnry.s-nbcnews.com/image/upload/t_focal-80x80,f_auto,q_auto:best/rockcms/2025-06/250602-Byron-Allen-2019-ac-510p-b3ed94.jpg, Alt: byron allen portrait, Score: 6\n"
     ]
    }
   ],
   "source": [
    "async def media_handling():\n",
    "    async with AsyncWebCrawler() as crawler:\n",
    "        config = CrawlerRunConfig(\n",
    "            cache_mode=CacheMode.ENABLED,\n",
    "            exclude_external_images=False,\n",
    "            # screenshot=True # Set this to True if you want to take a screenshot\n",
    "        )\n",
    "        result = await crawler.arun(\n",
    "            url=\"https://www.nbcnews.com/business\",\n",
    "            config=config,\n",
    "        )\n",
    "        for img in result.media['images'][:5]:\n",
    "            print(f\"Image URL: {img['src']}, Alt: {img['alt']}, Score: {img['score']}\")\n",
    "\n",
    "asyncio.run(media_handling())"
   ]
  },
  {
   "cell_type": "markdown",
   "id": "b8cdd641",
   "metadata": {},
   "source": [
    "# Using Hooks for Custom Workflow"
   ]
  },
  {
   "cell_type": "code",
   "execution_count": 42,
   "id": "9b5911b9",
   "metadata": {},
   "outputs": [],
   "source": [
    "from playwright.async_api import Page, BrowserContext"
   ]
  },
  {
   "cell_type": "code",
   "execution_count": 45,
   "id": "f41b35d6",
   "metadata": {},
   "outputs": [
    {
     "data": {
      "text/html": [
       "<pre style=\"white-space:pre;overflow-x:auto;line-height:normal;font-family:Menlo,'DejaVu Sans Mono',consolas,'Courier New',monospace\"><span style=\"color: #008080; text-decoration-color: #008080; font-weight: bold\">[</span><span style=\"color: #008080; text-decoration-color: #008080\">INIT</span><span style=\"color: #008080; text-decoration-color: #008080; font-weight: bold\">]</span><span style=\"color: #008080; text-decoration-color: #008080\">.... → Crawl4AI </span><span style=\"color: #008080; text-decoration-color: #008080; font-weight: bold\">0.6</span><span style=\"color: #008080; text-decoration-color: #008080\">.</span><span style=\"color: #008080; text-decoration-color: #008080; font-weight: bold\">3</span><span style=\"color: #008080; text-decoration-color: #008080\"> </span>\n",
       "</pre>\n"
      ],
      "text/plain": [
       "\u001b[1;36m[\u001b[0m\u001b[36mINIT\u001b[0m\u001b[1;36m]\u001b[0m\u001b[36m...\u001b[0m\u001b[36m. → Crawl4AI \u001b[0m\u001b[1;36m0.6\u001b[0m\u001b[36m.\u001b[0m\u001b[1;36m3\u001b[0m\u001b[36m \u001b[0m\n"
      ]
     },
     "metadata": {},
     "output_type": "display_data"
    },
    {
     "name": "stdout",
     "output_type": "stream",
     "text": [
      "[HOOK] before_goto - About to visit: https://crawl4ai.com\n"
     ]
    },
    {
     "data": {
      "text/html": [
       "<pre style=\"white-space:pre;overflow-x:auto;line-height:normal;font-family:Menlo,'DejaVu Sans Mono',consolas,'Courier New',monospace\"><span style=\"color: #008000; text-decoration-color: #008000; font-weight: bold\">[</span><span style=\"color: #008000; text-decoration-color: #008000\">FETCH</span><span style=\"color: #008000; text-decoration-color: #008000; font-weight: bold\">]</span><span style=\"color: #008000; text-decoration-color: #008000\">... ↓ </span><span style=\"color: #008000; text-decoration-color: #008000; text-decoration: underline\">https://crawl4ai.com</span><span style=\"color: #008000; text-decoration-color: #008000\">                                                                                 |</span>\n",
       "<span style=\"color: #008000; text-decoration-color: #008000\">✓ | ⏱: </span><span style=\"color: #008000; text-decoration-color: #008000; font-weight: bold\">5.</span><span style=\"color: #008000; text-decoration-color: #008000\">36s </span>\n",
       "</pre>\n"
      ],
      "text/plain": [
       "\u001b[1;32m[\u001b[0m\u001b[32mFETCH\u001b[0m\u001b[1;32m]\u001b[0m\u001b[32m...\u001b[0m\u001b[32m ↓ \u001b[0m\u001b[4;32mhttps://crawl4ai.com\u001b[0m\u001b[32m                                                                                 |\u001b[0m\n",
       "\u001b[32m✓\u001b[0m\u001b[32m | ⏱: \u001b[0m\u001b[1;32m5.\u001b[0m\u001b[32m36s \u001b[0m\n"
      ]
     },
     "metadata": {},
     "output_type": "display_data"
    },
    {
     "data": {
      "text/html": [
       "<pre style=\"white-space:pre;overflow-x:auto;line-height:normal;font-family:Menlo,'DejaVu Sans Mono',consolas,'Courier New',monospace\"><span style=\"color: #008000; text-decoration-color: #008000; font-weight: bold\">[</span><span style=\"color: #008000; text-decoration-color: #008000\">SCRAPE</span><span style=\"color: #008000; text-decoration-color: #008000; font-weight: bold\">]</span><span style=\"color: #008000; text-decoration-color: #008000\">.. ◆ </span><span style=\"color: #008000; text-decoration-color: #008000; text-decoration: underline\">https://crawl4ai.com</span><span style=\"color: #008000; text-decoration-color: #008000\">                                                                                 |</span>\n",
       "<span style=\"color: #008000; text-decoration-color: #008000\">✓ | ⏱: </span><span style=\"color: #008000; text-decoration-color: #008000; font-weight: bold\">0.</span><span style=\"color: #008000; text-decoration-color: #008000\">12s </span>\n",
       "</pre>\n"
      ],
      "text/plain": [
       "\u001b[1;32m[\u001b[0m\u001b[32mSCRAPE\u001b[0m\u001b[1;32m]\u001b[0m\u001b[32m.. ◆ \u001b[0m\u001b[4;32mhttps://crawl4ai.com\u001b[0m\u001b[32m                                                                                 |\u001b[0m\n",
       "\u001b[32m✓\u001b[0m\u001b[32m | ⏱: \u001b[0m\u001b[1;32m0.\u001b[0m\u001b[32m12s \u001b[0m\n"
      ]
     },
     "metadata": {},
     "output_type": "display_data"
    },
    {
     "data": {
      "text/html": [
       "<pre style=\"white-space:pre;overflow-x:auto;line-height:normal;font-family:Menlo,'DejaVu Sans Mono',consolas,'Courier New',monospace\"><span style=\"color: #008000; text-decoration-color: #008000; font-weight: bold\">[</span><span style=\"color: #008000; text-decoration-color: #008000\">COMPLETE</span><span style=\"color: #008000; text-decoration-color: #008000; font-weight: bold\">]</span><span style=\"color: #008000; text-decoration-color: #008000\"> ● </span><span style=\"color: #008000; text-decoration-color: #008000; text-decoration: underline\">https://crawl4ai.com</span><span style=\"color: #008000; text-decoration-color: #008000\">                                                                                 |</span>\n",
       "<span style=\"color: #008000; text-decoration-color: #008000\">✓ | ⏱: </span><span style=\"color: #008000; text-decoration-color: #008000; font-weight: bold\">5.</span><span style=\"color: #008000; text-decoration-color: #008000\">49s </span>\n",
       "</pre>\n"
      ],
      "text/plain": [
       "\u001b[1;32m[\u001b[0m\u001b[32mCOMPLETE\u001b[0m\u001b[1;32m]\u001b[0m\u001b[32m ● \u001b[0m\u001b[4;32mhttps://crawl4ai.com\u001b[0m\u001b[32m                                                                                 |\u001b[0m\n",
       "\u001b[32m✓\u001b[0m\u001b[32m | ⏱: \u001b[0m\u001b[1;32m5.\u001b[0m\u001b[32m49s \u001b[0m\n"
      ]
     },
     "metadata": {},
     "output_type": "display_data"
    },
    {
     "name": "stdout",
     "output_type": "stream",
     "text": [
      "[Crawl4AI Documentation (v0.6.x)](https://docs.crawl4ai.com/) --   * [ Home ](https://docs.crawl4ai.com/) --   * [ Ask AI ](https://docs.crawl4ai.com/core/ask-ai/) --   * [ LLM Context ](https://docs.crawl4ai.com/core/llmtxt/) --   * [ Quick Start ](https://docs.crawl4ai.com/core/quickstart/) --   * [ Code Examples ](https://docs.crawl4ai.com/core/examples/) --   * [ Search ](https://docs.crawl4ai.com/) --  --  -- × --   * Home --   * [Ask AI](https://docs.crawl4ai.com/core/ask-ai/) --   * [LLM Context](https://docs.crawl4ai.com/c\n"
     ]
    }
   ],
   "source": [
    "async def before_goto(page: Page, context: BrowserContext, url: str, **kwargs):\n",
    "        \"\"\"Hook called before navigating to each URL\"\"\"\n",
    "        print(f\"[HOOK] before_goto - About to visit: {url}\")\n",
    "        # Example: Add custom headers for the request\n",
    "        await page.set_extra_http_headers({\n",
    "            \"Custom-Header\": \"my-value\"\n",
    "        })\n",
    "        return page\n",
    "\n",
    "async def custom_hook_workflow(verbose=True):\n",
    "    async with AsyncWebCrawler(config=BrowserConfig( verbose=verbose)) as crawler:\n",
    "        # Set a 'before_goto' hook to run custom code just before navigation\n",
    "        crawler.crawler_strategy.set_hook(\"before_goto\", before_goto)\n",
    "\n",
    "        # Perform the crawl operation\n",
    "        result = await crawler.arun(\n",
    "            url=\"https://crawl4ai.com\",\n",
    "            config=CrawlerRunConfig(cache_mode=CacheMode.BYPASS)\n",
    "        )\n",
    "        print(result.markdown.raw_markdown[:500].replace(\"\\n\", \" -- \"))\n",
    "        with open(\"output/custom_hook_output.md\", \"w\") as f:\n",
    "            f.write(result.markdown.raw_markdown)\n",
    "\n",
    "asyncio.run(custom_hook_workflow())"
   ]
  },
  {
   "cell_type": "markdown",
   "id": "368cef17",
   "metadata": {},
   "source": [
    "# list of some available webhooks"
   ]
  },
  {
   "cell_type": "markdown",
   "id": "dca8dd83",
   "metadata": {},
   "source": [
    "List of available hooks and examples for each stage of the crawling process:\n",
    "\n",
    "- **on_browser_created**\n",
    "    ```python\n",
    "    async def on_browser_created_hook(browser):\n",
    "        print(\"[Hook] Browser created\")\n",
    "    ```\n",
    "\n",
    "- **before_goto**\n",
    "    ```python\n",
    "    async def before_goto_hook(page, context = None):\n",
    "        await page.set_extra_http_headers({\"X-Test-Header\": \"test\"})\n",
    "    ```\n",
    "\n",
    "- **after_goto**\n",
    "    ```python\n",
    "    async def after_goto_hook(page, context = None):\n",
    "        print(f\"[Hook] Navigated to {page.url}\")\n",
    "    ```\n",
    "\n",
    "- **on_execution_started**\n",
    "    ```python\n",
    "    async def on_execution_started_hook(page, context = None):\n",
    "        print(\"[Hook] JavaScript execution started\")\n",
    "    ```\n",
    "\n",
    "- **before_return_html**\n",
    "    ```python\n",
    "    async def before_return_html_hook(page, html, context = None):\n",
    "        print(f\"[Hook] HTML length: {len(html)}\")\n",
    "    ```"
   ]
  },
  {
   "cell_type": "markdown",
   "id": "28246671",
   "metadata": {},
   "source": [
    "# session-based crawling"
   ]
  },
  {
   "cell_type": "markdown",
   "id": "addfb137",
   "metadata": {},
   "source": [
    "session-based crawling is especially beneficial when navigating through multi-page content where each page load needs to maintain the same session context."
   ]
  },
  {
   "cell_type": "code",
   "execution_count": null,
   "id": "f19242bc",
   "metadata": {},
   "outputs": [
    {
     "name": "stdout",
     "output_type": "stream",
     "text": [
      "\n",
      "--- Advanced Multi-Page Crawling with JavaScript Execution ---\n"
     ]
    },
    {
     "data": {
      "text/html": [
       "<pre style=\"white-space:pre;overflow-x:auto;line-height:normal;font-family:Menlo,'DejaVu Sans Mono',consolas,'Courier New',monospace\"><span style=\"color: #008080; text-decoration-color: #008080; font-weight: bold\">[</span><span style=\"color: #008080; text-decoration-color: #008080\">INIT</span><span style=\"color: #008080; text-decoration-color: #008080; font-weight: bold\">]</span><span style=\"color: #008080; text-decoration-color: #008080\">.... → Crawl4AI </span><span style=\"color: #008080; text-decoration-color: #008080; font-weight: bold\">0.6</span><span style=\"color: #008080; text-decoration-color: #008080\">.</span><span style=\"color: #008080; text-decoration-color: #008080; font-weight: bold\">3</span><span style=\"color: #008080; text-decoration-color: #008080\"> </span>\n",
       "</pre>\n"
      ],
      "text/plain": [
       "\u001b[1;36m[\u001b[0m\u001b[36mINIT\u001b[0m\u001b[1;36m]\u001b[0m\u001b[36m...\u001b[0m\u001b[36m. → Crawl4AI \u001b[0m\u001b[1;36m0.6\u001b[0m\u001b[36m.\u001b[0m\u001b[1;36m3\u001b[0m\u001b[36m \u001b[0m\n"
      ]
     },
     "metadata": {},
     "output_type": "display_data"
    },
    {
     "data": {
      "text/html": [
       "<pre style=\"white-space:pre;overflow-x:auto;line-height:normal;font-family:Menlo,'DejaVu Sans Mono',consolas,'Courier New',monospace\"><span style=\"color: #008000; text-decoration-color: #008000; font-weight: bold\">[</span><span style=\"color: #008000; text-decoration-color: #008000\">FETCH</span><span style=\"color: #008000; text-decoration-color: #008000; font-weight: bold\">]</span><span style=\"color: #008000; text-decoration-color: #008000\">... ↓ </span><span style=\"color: #008000; text-decoration-color: #008000; text-decoration: underline\">https://github.com/microsoft/TypeScript/commits/main</span><span style=\"color: #008000; text-decoration-color: #008000\">                                                 |</span>\n",
       "<span style=\"color: #008000; text-decoration-color: #008000\">✓ | ⏱: </span><span style=\"color: #008000; text-decoration-color: #008000; font-weight: bold\">3.</span><span style=\"color: #008000; text-decoration-color: #008000\">60s </span>\n",
       "</pre>\n"
      ],
      "text/plain": [
       "\u001b[1;32m[\u001b[0m\u001b[32mFETCH\u001b[0m\u001b[1;32m]\u001b[0m\u001b[32m...\u001b[0m\u001b[32m ↓ \u001b[0m\u001b[4;32mhttps://github.com/microsoft/TypeScript/commits/main\u001b[0m\u001b[32m                                                 |\u001b[0m\n",
       "\u001b[32m✓\u001b[0m\u001b[32m | ⏱: \u001b[0m\u001b[1;32m3.\u001b[0m\u001b[32m60s \u001b[0m\n"
      ]
     },
     "metadata": {},
     "output_type": "display_data"
    },
    {
     "data": {
      "text/html": [
       "<pre style=\"white-space:pre;overflow-x:auto;line-height:normal;font-family:Menlo,'DejaVu Sans Mono',consolas,'Courier New',monospace\"><span style=\"color: #008000; text-decoration-color: #008000; font-weight: bold\">[</span><span style=\"color: #008000; text-decoration-color: #008000\">SCRAPE</span><span style=\"color: #008000; text-decoration-color: #008000; font-weight: bold\">]</span><span style=\"color: #008000; text-decoration-color: #008000\">.. ◆ </span><span style=\"color: #008000; text-decoration-color: #008000; text-decoration: underline\">https://github.com/microsoft/TypeScript/commits/main</span><span style=\"color: #008000; text-decoration-color: #008000\">                                                 |</span>\n",
       "<span style=\"color: #008000; text-decoration-color: #008000\">✓ | ⏱: </span><span style=\"color: #008000; text-decoration-color: #008000; font-weight: bold\">0.</span><span style=\"color: #008000; text-decoration-color: #008000\">00s </span>\n",
       "</pre>\n"
      ],
      "text/plain": [
       "\u001b[1;32m[\u001b[0m\u001b[32mSCRAPE\u001b[0m\u001b[1;32m]\u001b[0m\u001b[32m.. ◆ \u001b[0m\u001b[4;32mhttps://github.com/microsoft/TypeScript/commits/main\u001b[0m\u001b[32m                                                 |\u001b[0m\n",
       "\u001b[32m✓\u001b[0m\u001b[32m | ⏱: \u001b[0m\u001b[1;32m0.\u001b[0m\u001b[32m00s \u001b[0m\n"
      ]
     },
     "metadata": {},
     "output_type": "display_data"
    },
    {
     "data": {
      "text/html": [
       "<pre style=\"white-space:pre;overflow-x:auto;line-height:normal;font-family:Menlo,'DejaVu Sans Mono',consolas,'Courier New',monospace\"><span style=\"color: #008080; text-decoration-color: #008080; font-weight: bold\">[</span><span style=\"color: #008080; text-decoration-color: #008080\">EXTRACT</span><span style=\"color: #008080; text-decoration-color: #008080; font-weight: bold\">]</span><span style=\"color: #008080; text-decoration-color: #008080\">. ■ Completed for </span><span style=\"color: #008080; text-decoration-color: #008080; text-decoration: underline\">https://github.com/microsoft/TypeScript/commits/ma...</span><span style=\"color: #008080; text-decoration-color: #008080\"> | Time: </span><span style=\"color: #008080; text-decoration-color: #008080; font-weight: bold\">0.</span><span style=\"color: #008080; text-decoration-color: #008080\">0009419260022696108s </span>\n",
       "</pre>\n"
      ],
      "text/plain": [
       "\u001b[1;36m[\u001b[0m\u001b[36mEXTRACT\u001b[0m\u001b[1;36m]\u001b[0m\u001b[36m. ■ Completed for \u001b[0m\u001b[4;36mhttps://github.com/microsoft/TypeScript/commits/ma...\u001b[0m\u001b[36m | Time: \u001b[0m\u001b[1;36m0.\u001b[0m\u001b[36m0009419260022696108s \u001b[0m\n"
      ]
     },
     "metadata": {},
     "output_type": "display_data"
    },
    {
     "data": {
      "text/html": [
       "<pre style=\"white-space:pre;overflow-x:auto;line-height:normal;font-family:Menlo,'DejaVu Sans Mono',consolas,'Courier New',monospace\"><span style=\"color: #008000; text-decoration-color: #008000; font-weight: bold\">[</span><span style=\"color: #008000; text-decoration-color: #008000\">COMPLETE</span><span style=\"color: #008000; text-decoration-color: #008000; font-weight: bold\">]</span><span style=\"color: #008000; text-decoration-color: #008000\"> ● </span><span style=\"color: #008000; text-decoration-color: #008000; text-decoration: underline\">https://github.com/microsoft/TypeScript/commits/main</span><span style=\"color: #008000; text-decoration-color: #008000\">                                                 |</span>\n",
       "<span style=\"color: #008000; text-decoration-color: #008000\">✓ | ⏱: </span><span style=\"color: #008000; text-decoration-color: #008000; font-weight: bold\">3.</span><span style=\"color: #008000; text-decoration-color: #008000\">61s </span>\n",
       "</pre>\n"
      ],
      "text/plain": [
       "\u001b[1;32m[\u001b[0m\u001b[32mCOMPLETE\u001b[0m\u001b[1;32m]\u001b[0m\u001b[32m ● \u001b[0m\u001b[4;32mhttps://github.com/microsoft/TypeScript/commits/main\u001b[0m\u001b[32m                                                 |\u001b[0m\n",
       "\u001b[32m✓\u001b[0m\u001b[32m | ⏱: \u001b[0m\u001b[1;32m3.\u001b[0m\u001b[32m61s \u001b[0m\n"
      ]
     },
     "metadata": {},
     "output_type": "display_data"
    },
    {
     "name": "stdout",
     "output_type": "stream",
     "text": [
      "Page 1: Found 0 commits\n"
     ]
    },
    {
     "data": {
      "text/html": [
       "<pre style=\"white-space:pre;overflow-x:auto;line-height:normal;font-family:Menlo,'DejaVu Sans Mono',consolas,'Courier New',monospace\"><span style=\"color: #008000; text-decoration-color: #008000; font-weight: bold\">[</span><span style=\"color: #008000; text-decoration-color: #008000\">FETCH</span><span style=\"color: #008000; text-decoration-color: #008000; font-weight: bold\">]</span><span style=\"color: #008000; text-decoration-color: #008000\">... ↓ </span><span style=\"color: #008000; text-decoration-color: #008000; text-decoration: underline\">https://github.com/microsoft/TypeScript/commits/main</span><span style=\"color: #008000; text-decoration-color: #008000\">                                                 |</span>\n",
       "<span style=\"color: #008000; text-decoration-color: #008000\">✓ | ⏱: </span><span style=\"color: #008000; text-decoration-color: #008000; font-weight: bold\">0.</span><span style=\"color: #008000; text-decoration-color: #008000\">65s </span>\n",
       "</pre>\n"
      ],
      "text/plain": [
       "\u001b[1;32m[\u001b[0m\u001b[32mFETCH\u001b[0m\u001b[1;32m]\u001b[0m\u001b[32m...\u001b[0m\u001b[32m ↓ \u001b[0m\u001b[4;32mhttps://github.com/microsoft/TypeScript/commits/main\u001b[0m\u001b[32m                                                 |\u001b[0m\n",
       "\u001b[32m✓\u001b[0m\u001b[32m | ⏱: \u001b[0m\u001b[1;32m0.\u001b[0m\u001b[32m65s \u001b[0m\n"
      ]
     },
     "metadata": {},
     "output_type": "display_data"
    },
    {
     "data": {
      "text/html": [
       "<pre style=\"white-space:pre;overflow-x:auto;line-height:normal;font-family:Menlo,'DejaVu Sans Mono',consolas,'Courier New',monospace\"><span style=\"color: #008000; text-decoration-color: #008000; font-weight: bold\">[</span><span style=\"color: #008000; text-decoration-color: #008000\">SCRAPE</span><span style=\"color: #008000; text-decoration-color: #008000; font-weight: bold\">]</span><span style=\"color: #008000; text-decoration-color: #008000\">.. ◆ </span><span style=\"color: #008000; text-decoration-color: #008000; text-decoration: underline\">https://github.com/microsoft/TypeScript/commits/main</span><span style=\"color: #008000; text-decoration-color: #008000\">                                                 |</span>\n",
       "<span style=\"color: #008000; text-decoration-color: #008000\">✓ | ⏱: </span><span style=\"color: #008000; text-decoration-color: #008000; font-weight: bold\">0.</span><span style=\"color: #008000; text-decoration-color: #008000\">00s </span>\n",
       "</pre>\n"
      ],
      "text/plain": [
       "\u001b[1;32m[\u001b[0m\u001b[32mSCRAPE\u001b[0m\u001b[1;32m]\u001b[0m\u001b[32m.. ◆ \u001b[0m\u001b[4;32mhttps://github.com/microsoft/TypeScript/commits/main\u001b[0m\u001b[32m                                                 |\u001b[0m\n",
       "\u001b[32m✓\u001b[0m\u001b[32m | ⏱: \u001b[0m\u001b[1;32m0.\u001b[0m\u001b[32m00s \u001b[0m\n"
      ]
     },
     "metadata": {},
     "output_type": "display_data"
    },
    {
     "data": {
      "text/html": [
       "<pre style=\"white-space:pre;overflow-x:auto;line-height:normal;font-family:Menlo,'DejaVu Sans Mono',consolas,'Courier New',monospace\"><span style=\"color: #008080; text-decoration-color: #008080; font-weight: bold\">[</span><span style=\"color: #008080; text-decoration-color: #008080\">EXTRACT</span><span style=\"color: #008080; text-decoration-color: #008080; font-weight: bold\">]</span><span style=\"color: #008080; text-decoration-color: #008080\">. ■ Completed for </span><span style=\"color: #008080; text-decoration-color: #008080; text-decoration: underline\">https://github.com/microsoft/TypeScript/commits/ma...</span><span style=\"color: #008080; text-decoration-color: #008080\"> | Time: </span><span style=\"color: #008080; text-decoration-color: #008080; font-weight: bold\">0.</span><span style=\"color: #008080; text-decoration-color: #008080\">0024015809904085472s </span>\n",
       "</pre>\n"
      ],
      "text/plain": [
       "\u001b[1;36m[\u001b[0m\u001b[36mEXTRACT\u001b[0m\u001b[1;36m]\u001b[0m\u001b[36m. ■ Completed for \u001b[0m\u001b[4;36mhttps://github.com/microsoft/TypeScript/commits/ma...\u001b[0m\u001b[36m | Time: \u001b[0m\u001b[1;36m0.\u001b[0m\u001b[36m0024015809904085472s \u001b[0m\n"
      ]
     },
     "metadata": {},
     "output_type": "display_data"
    },
    {
     "data": {
      "text/html": [
       "<pre style=\"white-space:pre;overflow-x:auto;line-height:normal;font-family:Menlo,'DejaVu Sans Mono',consolas,'Courier New',monospace\"><span style=\"color: #008000; text-decoration-color: #008000; font-weight: bold\">[</span><span style=\"color: #008000; text-decoration-color: #008000\">COMPLETE</span><span style=\"color: #008000; text-decoration-color: #008000; font-weight: bold\">]</span><span style=\"color: #008000; text-decoration-color: #008000\"> ● </span><span style=\"color: #008000; text-decoration-color: #008000; text-decoration: underline\">https://github.com/microsoft/TypeScript/commits/main</span><span style=\"color: #008000; text-decoration-color: #008000\">                                                 |</span>\n",
       "<span style=\"color: #008000; text-decoration-color: #008000\">✓ | ⏱: </span><span style=\"color: #008000; text-decoration-color: #008000; font-weight: bold\">0.</span><span style=\"color: #008000; text-decoration-color: #008000\">68s </span>\n",
       "</pre>\n"
      ],
      "text/plain": [
       "\u001b[1;32m[\u001b[0m\u001b[32mCOMPLETE\u001b[0m\u001b[1;32m]\u001b[0m\u001b[32m ● \u001b[0m\u001b[4;32mhttps://github.com/microsoft/TypeScript/commits/main\u001b[0m\u001b[32m                                                 |\u001b[0m\n",
       "\u001b[32m✓\u001b[0m\u001b[32m | ⏱: \u001b[0m\u001b[1;32m0.\u001b[0m\u001b[32m68s \u001b[0m\n"
      ]
     },
     "metadata": {},
     "output_type": "display_data"
    },
    {
     "name": "stdout",
     "output_type": "stream",
     "text": [
      "Page 2: Found 0 commits\n"
     ]
    },
    {
     "data": {
      "text/html": [
       "<pre style=\"white-space:pre;overflow-x:auto;line-height:normal;font-family:Menlo,'DejaVu Sans Mono',consolas,'Courier New',monospace\"><span style=\"color: #808000; text-decoration-color: #808000; font-weight: bold\">[</span><span style=\"color: #808000; text-decoration-color: #808000\">WARNING</span><span style=\"color: #808000; text-decoration-color: #808000; font-weight: bold\">]</span><span style=\"color: #808000; text-decoration-color: #808000\">. ⚠ Session auto-kill is enabled in the new version. No need to manually kill sessions. </span>\n",
       "</pre>\n"
      ],
      "text/plain": [
       "\u001b[1;33m[\u001b[0m\u001b[33mWARNING\u001b[0m\u001b[1;33m]\u001b[0m\u001b[33m. ⚠ Session auto-kill is enabled in the new version. No need to manually kill sessions. \u001b[0m\n"
      ]
     },
     "metadata": {},
     "output_type": "display_data"
    },
    {
     "name": "stdout",
     "output_type": "stream",
     "text": [
      "Successfully crawled 0 commits across 3 pages\n"
     ]
    }
   ],
   "source": [
    "from crawl4ai.extraction_strategy import (\n",
    "    JsonCssExtractionStrategy,\n",
    "    LLMExtractionStrategy,\n",
    ")\n",
    "import json\n",
    "\n",
    "async def crawl_dynamic_content_pages_method_2():\n",
    "    print(\"\\n--- Advanced Multi-Page Crawling with JavaScript Execution ---\")\n",
    "\n",
    "    async with AsyncWebCrawler() as crawler:\n",
    "        url = \"https://github.com/microsoft/TypeScript/commits/main\"\n",
    "        session_id = \"typescript_commits_session\"\n",
    "        all_commits = []\n",
    "\n",
    "        js_next_page_and_wait = \"\"\"\n",
    "        (async () => {\n",
    "            const getCurrentCommit = () => {\n",
    "                const commits = document.querySelectorAll('li.Box-sc-g0xbh4-0 h4');\n",
    "                return commits.length > 0 ? commits[0].textContent.trim() : null;\n",
    "            };\n",
    "\n",
    "            const initialCommit = getCurrentCommit();\n",
    "            const button = document.querySelector('a[data-testid=\"pagination-next-button\"]');\n",
    "            if (button) button.click();\n",
    "\n",
    "            // Poll for changes\n",
    "            while (true) {\n",
    "                await new Promise(resolve => setTimeout(resolve, 100)); // Wait 100ms\n",
    "                const newCommit = getCurrentCommit();\n",
    "                if (newCommit && newCommit !== initialCommit) {\n",
    "                    break;\n",
    "                }\n",
    "            }\n",
    "        })();\n",
    "        \"\"\"\n",
    "\n",
    "        schema = {\n",
    "            \"name\": \"Commit Extractor\",\n",
    "            \"baseSelector\": \"li.Box-sc-g0xbh4-0\",\n",
    "            \"fields\": [\n",
    "                {\n",
    "                    \"name\": \"title\",\n",
    "                    \"selector\": \"h4.markdown-title\",\n",
    "                    \"type\": \"text\",\n",
    "                    \"transform\": \"strip\",\n",
    "                },\n",
    "            ],\n",
    "        }\n",
    "        extraction_strategy = JsonCssExtractionStrategy(schema, verbose=True)\n",
    "\n",
    "        for page in range(2):  # Crawl 2 pages\n",
    "            config = CrawlerRunConfig(\n",
    "                cache_mode=CacheMode.BYPASS,\n",
    "                session_id=session_id,\n",
    "                css_selector=\"li.Box-sc-g0xbh4-0\",\n",
    "                extraction_strategy=extraction_strategy,\n",
    "                js_code=js_next_page_and_wait if page > 0 else None,\n",
    "                js_only=page > 0,\n",
    "            )\n",
    "            result = await crawler.arun(\n",
    "                url=url,\n",
    "                config=config\n",
    "            )\n",
    "\n",
    "            assert result.success, f\"Failed to crawl page {page + 1}\"\n",
    "\n",
    "            commits = json.loads(result.extracted_content)\n",
    "            all_commits.extend(commits)\n",
    "\n",
    "            print(f\"Page {page + 1}: Found {len(commits)} commits\")\n",
    "\n",
    "        await crawler.crawler_strategy.kill_session(session_id)\n",
    "        print(f\"Successfully crawled {len(all_commits)} commits across 3 pages\")\n",
    "\n",
    "asyncio.run(crawl_dynamic_content_pages_method_2())"
   ]
  },
  {
   "cell_type": "markdown",
   "id": "1c406e6e",
   "metadata": {},
   "source": [
    "# Executing JavaScript & Extract Structured Data without LLMs"
   ]
  },
  {
   "cell_type": "code",
   "execution_count": 53,
   "id": "788ce9fa",
   "metadata": {},
   "outputs": [
    {
     "data": {
      "text/html": [
       "<pre style=\"white-space:pre;overflow-x:auto;line-height:normal;font-family:Menlo,'DejaVu Sans Mono',consolas,'Courier New',monospace\"><span style=\"color: #008080; text-decoration-color: #008080; font-weight: bold\">[</span><span style=\"color: #008080; text-decoration-color: #008080\">INIT</span><span style=\"color: #008080; text-decoration-color: #008080; font-weight: bold\">]</span><span style=\"color: #008080; text-decoration-color: #008080\">.... → Crawl4AI </span><span style=\"color: #008080; text-decoration-color: #008080; font-weight: bold\">0.6</span><span style=\"color: #008080; text-decoration-color: #008080\">.</span><span style=\"color: #008080; text-decoration-color: #008080; font-weight: bold\">3</span><span style=\"color: #008080; text-decoration-color: #008080\"> </span>\n",
       "</pre>\n"
      ],
      "text/plain": [
       "\u001b[1;36m[\u001b[0m\u001b[36mINIT\u001b[0m\u001b[1;36m]\u001b[0m\u001b[36m...\u001b[0m\u001b[36m. → Crawl4AI \u001b[0m\u001b[1;36m0.6\u001b[0m\u001b[36m.\u001b[0m\u001b[1;36m3\u001b[0m\u001b[36m \u001b[0m\n"
      ]
     },
     "metadata": {},
     "output_type": "display_data"
    },
    {
     "data": {
      "text/html": [
       "<pre style=\"white-space:pre;overflow-x:auto;line-height:normal;font-family:Menlo,'DejaVu Sans Mono',consolas,'Courier New',monospace\"><span style=\"color: #008000; text-decoration-color: #008000; font-weight: bold\">[</span><span style=\"color: #008000; text-decoration-color: #008000\">FETCH</span><span style=\"color: #008000; text-decoration-color: #008000; font-weight: bold\">]</span><span style=\"color: #008000; text-decoration-color: #008000\">... ↓ </span><span style=\"color: #008000; text-decoration-color: #008000; text-decoration: underline\">https://www.kidocode.com/degrees/technology</span><span style=\"color: #008000; text-decoration-color: #008000\">                                                          |</span>\n",
       "<span style=\"color: #008000; text-decoration-color: #008000\">✓ | ⏱: </span><span style=\"color: #008000; text-decoration-color: #008000; font-weight: bold\">3.</span><span style=\"color: #008000; text-decoration-color: #008000\">63s </span>\n",
       "</pre>\n"
      ],
      "text/plain": [
       "\u001b[1;32m[\u001b[0m\u001b[32mFETCH\u001b[0m\u001b[1;32m]\u001b[0m\u001b[32m...\u001b[0m\u001b[32m ↓ \u001b[0m\u001b[4;32mhttps://www.kidocode.com/degrees/technology\u001b[0m\u001b[32m                                                          |\u001b[0m\n",
       "\u001b[32m✓\u001b[0m\u001b[32m | ⏱: \u001b[0m\u001b[1;32m3.\u001b[0m\u001b[32m63s \u001b[0m\n"
      ]
     },
     "metadata": {},
     "output_type": "display_data"
    },
    {
     "data": {
      "text/html": [
       "<pre style=\"white-space:pre;overflow-x:auto;line-height:normal;font-family:Menlo,'DejaVu Sans Mono',consolas,'Courier New',monospace\"><span style=\"color: #008000; text-decoration-color: #008000; font-weight: bold\">[</span><span style=\"color: #008000; text-decoration-color: #008000\">SCRAPE</span><span style=\"color: #008000; text-decoration-color: #008000; font-weight: bold\">]</span><span style=\"color: #008000; text-decoration-color: #008000\">.. ◆ </span><span style=\"color: #008000; text-decoration-color: #008000; text-decoration: underline\">https://www.kidocode.com/degrees/technology</span><span style=\"color: #008000; text-decoration-color: #008000\">                                                          |</span>\n",
       "<span style=\"color: #008000; text-decoration-color: #008000\">✓ | ⏱: </span><span style=\"color: #008000; text-decoration-color: #008000; font-weight: bold\">0.</span><span style=\"color: #008000; text-decoration-color: #008000\">20s </span>\n",
       "</pre>\n"
      ],
      "text/plain": [
       "\u001b[1;32m[\u001b[0m\u001b[32mSCRAPE\u001b[0m\u001b[1;32m]\u001b[0m\u001b[32m.. ◆ \u001b[0m\u001b[4;32mhttps://www.kidocode.com/degrees/technology\u001b[0m\u001b[32m                                                          |\u001b[0m\n",
       "\u001b[32m✓\u001b[0m\u001b[32m | ⏱: \u001b[0m\u001b[1;32m0.\u001b[0m\u001b[32m20s \u001b[0m\n"
      ]
     },
     "metadata": {},
     "output_type": "display_data"
    },
    {
     "data": {
      "text/html": [
       "<pre style=\"white-space:pre;overflow-x:auto;line-height:normal;font-family:Menlo,'DejaVu Sans Mono',consolas,'Courier New',monospace\"><span style=\"color: #008080; text-decoration-color: #008080; font-weight: bold\">[</span><span style=\"color: #008080; text-decoration-color: #008080\">EXTRACT</span><span style=\"color: #008080; text-decoration-color: #008080; font-weight: bold\">]</span><span style=\"color: #008080; text-decoration-color: #008080\">. ■ Completed for </span><span style=\"color: #008080; text-decoration-color: #008080; text-decoration: underline\">https://www.kidocode.com/degrees/technology...</span><span style=\"color: #008080; text-decoration-color: #008080\"> | Time: </span><span style=\"color: #008080; text-decoration-color: #008080; font-weight: bold\">0.</span><span style=\"color: #008080; text-decoration-color: #008080\">1189301760023227s </span>\n",
       "</pre>\n"
      ],
      "text/plain": [
       "\u001b[1;36m[\u001b[0m\u001b[36mEXTRACT\u001b[0m\u001b[1;36m]\u001b[0m\u001b[36m. ■ Completed for \u001b[0m\u001b[4;36mhttps://www.kidocode.com/degrees/technology...\u001b[0m\u001b[36m | Time: \u001b[0m\u001b[1;36m0.\u001b[0m\u001b[36m1189301760023227s \u001b[0m\n"
      ]
     },
     "metadata": {},
     "output_type": "display_data"
    },
    {
     "data": {
      "text/html": [
       "<pre style=\"white-space:pre;overflow-x:auto;line-height:normal;font-family:Menlo,'DejaVu Sans Mono',consolas,'Courier New',monospace\"><span style=\"color: #008000; text-decoration-color: #008000; font-weight: bold\">[</span><span style=\"color: #008000; text-decoration-color: #008000\">COMPLETE</span><span style=\"color: #008000; text-decoration-color: #008000; font-weight: bold\">]</span><span style=\"color: #008000; text-decoration-color: #008000\"> ● </span><span style=\"color: #008000; text-decoration-color: #008000; text-decoration: underline\">https://www.kidocode.com/degrees/technology</span><span style=\"color: #008000; text-decoration-color: #008000\">                                                          |</span>\n",
       "<span style=\"color: #008000; text-decoration-color: #008000\">✓ | ⏱: </span><span style=\"color: #008000; text-decoration-color: #008000; font-weight: bold\">3.</span><span style=\"color: #008000; text-decoration-color: #008000\">97s </span>\n",
       "</pre>\n"
      ],
      "text/plain": [
       "\u001b[1;32m[\u001b[0m\u001b[32mCOMPLETE\u001b[0m\u001b[1;32m]\u001b[0m\u001b[32m ● \u001b[0m\u001b[4;32mhttps://www.kidocode.com/degrees/technology\u001b[0m\u001b[32m                                                          |\u001b[0m\n",
       "\u001b[32m✓\u001b[0m\u001b[32m | ⏱: \u001b[0m\u001b[1;32m3.\u001b[0m\u001b[32m97s \u001b[0m\n"
      ]
     },
     "metadata": {},
     "output_type": "display_data"
    },
    {
     "name": "stdout",
     "output_type": "stream",
     "text": [
      "[\n",
      "    {\n",
      "        \"section_title\": \"Coding\",\n",
      "        \"section_description\": \"Introducing students to the world of programming through Python, emphasizing foundational coding concepts and creativity in solving problems through generative art and geometric patterns.\",\n",
      "        \"course_name\": \"Coding with Python\",\n",
      "        \"course_description\": \"Explore the exciting intersection of art and technology in Creative Coding with Python. This engaging course introduces young learners to Python programming, teaching them foundational coding concepts through the creation of generative art and geometric patterns. As students progress from basic programming principles to artistic project development, they'll enhance their problem-solving and logical thinking abilities, all within a creative and fun learning environment.\",\n",
      "        \"course_icon\": \"https://cdn.prod.website-files.com/61d6943d6b59241863c825d6/65c0a4d516aec7d103edb1e5_Python-Data-Science-Toolkit-Icon.svg\"\n",
      "    },\n",
      "    {\n",
      "        \"section_title\": \"Robotics\",\n",
      "        \"section_description\": \"Diving into the mechanics and electronics behind robotics, this course empowers students with hands-on experience in building and programming robots, mirroring the understanding of computer 'anatomy'.\",\n",
      "        \"course_name\": \"Electronics & Robotics\",\n",
      "        \"course_description\": \"Electronics and Robotics is a foundational course designed to immerse you in the fundamentals of electronics and robotics. Start with an introduction to key concepts and progress to understanding the roles of essential components such as resistors, capacitors, transistors, and sensors. Gain hands-on experience by building and programming circuits and simple robots. Throughout the course, you'll enhance your problem-solving abilities and foster innovative thinking, essential skills for aspiring engineers and hobbyists alike.\",\n",
      "        \"course_icon\": \"https://cdn.prod.website-files.com/61d6943d6b59241863c825d6/65c0a86a85bc58f2190b04f8_Programming-for-Robotics-Icon.svg\"\n",
      "    },\n",
      "    {\n",
      "        \"section_title\": \"Electronics\",\n",
      "        \"section_description\": \"Focused on the fundamental principles of electronics, this module is designed to provide students with a deep understanding of the components that power today's technology, akin to learning the human body's functions.\",\n",
      "        \"course_name\": \"Beginner Electronics Programming\",\n",
      "        \"course_description\": \"Learn basic concepts of electronics and circuits, basics of programming and everyday electronics. Explore what programmable electronics have applications in our built environment, starting with the fundamental programming concepts before digging deeper into the more advanced C++ topics. You will build everything from a Harry Potter Sorting Hat to a program that can censor text!\",\n",
      "        \"course_icon\": \"https://cdn.prod.website-files.com/61d6943d6b59241863c825d6/621714fb0e890af847bde8c6_Beginner-Electronics-Programming.svg\"\n",
      "    },\n",
      "    {\n",
      "        \"section_title\": \"Apps\",\n",
      "        \"section_description\": \"Bridging the gap between web and mobile app development, this course offers students the skills to create high-performance, accessible apps, emphasizing the importance of responsive design and deployment strategies.\",\n",
      "        \"course_name\": \"Beginner Mobile App Development\",\n",
      "        \"course_description\": \"Some of our favorite apps are the simplest ones — and you do not need any coding experience to start making your own. Throughout this course, you will build a basic Android app from start to finish. Get ready to see your work on a small screen.\",\n",
      "        \"course_icon\": \"https://cdn.prod.website-files.com/61d6943d6b59241863c825d6/6256f43dd2c2c663bf3e2d15_Beginner-Mobile-App-Development.svg\"\n",
      "    },\n",
      "    {\n",
      "        \"section_title\": \"Techniques\",\n",
      "        \"section_description\": \"Venturing into the realm of 3D design and printing, students learn to bring their digital ideas into the physical world, fostering innovation and creativity in translating concepts into tangible creations.\",\n",
      "        \"course_name\": \"3D Modelling & Printing\",\n",
      "        \"course_description\": \"Delve into the essentials of 3D design, geometry, and mathematics, and explore the diverse materials and technologies that make 3D printing possible. With practical sessions in 3D design software and hands-on printer use, you'll develop the skills needed to design, model, and bring your 3D creations to life. This course is perfect for anyone interested in transforming ideas into physical forms through the art and science of 3D printing.\",\n",
      "        \"course_icon\": \"https://cdn.prod.website-files.com/61d6943d6b59241863c825d6/65c0a93562ed5413a3c23d29_Learn-3D-Modelling-_-Printing.svg\"\n",
      "    },\n",
      "    {\n",
      "        \"section_title\": \"Engagement\",\n",
      "        \"section_description\": \"This final component combines the comprehensive skills required for web development with the creative and immersive world of game development, encouraging students to apply their skills in creating engaging digital experiences.\",\n",
      "        \"course_name\": \"Game Development\",\n",
      "        \"course_description\": \"Discover the power of web-based game development using PhaserJS, and delve into the imaginative universe of Roblox to create engaging games. This course also introduces you to gamification strategies, pixel art, and sound design, enriching your developer toolkit. By fostering critical thinking and creativity, it prepares you to innovate and excel in the game development field.\",\n",
      "        \"course_icon\": \"https://cdn.prod.website-files.com/61d6943d6b59241863c825d6/65c0a967c53d4dffd654d60c_Beginner-Game-Development-Icon.svg\"\n",
      "    }\n",
      "]\n",
      "Successfully extracted 6 courses\n",
      "22034\n"
     ]
    }
   ],
   "source": [
    "async def extract():\n",
    "    schema = {\n",
    "        \"name\": \"KidoCode Courses\",\n",
    "        \"baseSelector\": \"section.charge-methodology .div-block-214.p-extraxx\",\n",
    "        \"fields\": [\n",
    "            {\n",
    "                \"name\": \"section_title\",\n",
    "                \"selector\": \"h3.heading-50\",\n",
    "                \"type\": \"text\",\n",
    "            },\n",
    "            {\n",
    "                \"name\": \"section_description\",\n",
    "                \"selector\": \".charge-content\",\n",
    "                \"type\": \"text\",\n",
    "            },\n",
    "            {\n",
    "                \"name\": \"course_name\",\n",
    "                \"selector\": \".text-block-93\",\n",
    "                \"type\": \"text\",\n",
    "            },\n",
    "            {\n",
    "                \"name\": \"course_description\",\n",
    "                \"selector\": \".course-content-text\",\n",
    "                \"type\": \"text\",\n",
    "            },\n",
    "            {\n",
    "                \"name\": \"course_icon\",\n",
    "                \"selector\": \".image-92\",\n",
    "                \"type\": \"attribute\",\n",
    "                \"attribute\": \"src\"\n",
    "            }\n",
    "        ]\n",
    "    }\n",
    "\n",
    "    extraction_strategy = JsonCssExtractionStrategy(schema, verbose=True)\n",
    "\n",
    "    async with AsyncWebCrawler() as crawler:\n",
    "\n",
    "        # Create the JavaScript that handles clicking multiple times\n",
    "        js_click_tabs = \"\"\"\n",
    "        (async () => {\n",
    "            const tabs = document.querySelectorAll(\"section.charge-methodology .tabs-menu-3 > div\");\n",
    "\n",
    "            for(let tab of tabs) {\n",
    "                // scroll to the tab\n",
    "                tab.scrollIntoView();\n",
    "                tab.click();\n",
    "                // Wait for content to load and animations to complete\n",
    "                await new Promise(r => setTimeout(r, 500));\n",
    "            }\n",
    "        })();\n",
    "        \"\"\"\n",
    "\n",
    "        config = CrawlerRunConfig(\n",
    "            cache_mode=CacheMode.BYPASS,\n",
    "            extraction_strategy=extraction_strategy,\n",
    "            js_code=[js_click_tabs],\n",
    "        )\n",
    "        result = await crawler.arun(\n",
    "            url=\"https://www.kidocode.com/degrees/technology\",\n",
    "            config=config\n",
    "        )\n",
    "\n",
    "        courses = json.loads(result.extracted_content)\n",
    "        print(result.extracted_content)\n",
    "        print(f\"Successfully extracted {len(courses)} courses\")\n",
    "        print(len(result.markdown))\n",
    "        # print(json.dumps(courses[0], indent=2))\n",
    "\n",
    "        with open(\"output/kidocode_courses.json\", \"w\") as f:\n",
    "            json.dump(courses, f, indent=2)\n",
    "\n",
    "await extract()"
   ]
  },
  {
   "cell_type": "markdown",
   "id": "a2a92705",
   "metadata": {},
   "source": [
    "# LLM-based extraction"
   ]
  },
  {
   "cell_type": "code",
   "execution_count": null,
   "id": "2f1d7e5c",
   "metadata": {},
   "outputs": [],
   "source": [
    "from pydantic import BaseModel, Field\n",
    "from google.colab import userdata\n",
    "os.environ['OPENAI_API_KEY'] = userdata.get('OPENAI_API_KEY')\n",
    "\n",
    "class OpenAIModelFee(BaseModel):\n",
    "    model_name: str = Field(..., description=\"Name of the OpenAI model.\")\n",
    "    input_fee: str = Field(..., description=\"Fee for input token for the OpenAI model.\")\n",
    "    output_fee: str = Field(\n",
    "        ..., description=\"Fee for output token for the OpenAI model.\"\n",
    "    )\n",
    "\n",
    "async def extract_structured_data_using_llm(provider: str, api_token: str = None, extra_headers: dict = None):\n",
    "    print(f\"\\n--- Extracting Structured Data with {provider} ---\")\n",
    "\n",
    "    # Skip if API token is missing (for providers that require it)\n",
    "    if api_token is None and provider != \"ollama\":\n",
    "        print(f\"API token is required for {provider}. Skipping this example.\")\n",
    "        return\n",
    "\n",
    "    extra_args = {\"extra_headers\": extra_headers} if extra_headers else {}\n",
    "\n",
    "    async with AsyncWebCrawler(verbose=True) as crawler:\n",
    "        result = await crawler.arun(\n",
    "            url=\"https://openai.com/api/pricing/\",\n",
    "            word_count_threshold=1,\n",
    "            extraction_strategy=LLMExtractionStrategy(\n",
    "                provider=provider,\n",
    "                api_token=api_token,\n",
    "                schema=OpenAIModelFee.schema(),\n",
    "                extraction_type=\"schema\",\n",
    "                instruction=\"\"\"Extract all model names along with fees for input and output tokens.\"\n",
    "                \"{model_name: 'GPT-4', input_fee: 'US$10.00 / 1M tokens', output_fee: 'US$30.00 / 1M tokens'}.\"\"\",\n",
    "                **extra_args\n",
    "            ),\n",
    "            cache_mode = CacheMode.ENABLED\n",
    "        )\n",
    "        print(json.loads(result.extracted_content)[:5])\n",
    "\n",
    "# Usage:\n",
    "# await extract_structured_data_using_llm(\"huggingface/meta-llama/Meta-Llama-3.1-8B-Instruct\", os.getenv(\"HUGGINGFACE_API_KEY\"))\n",
    "# await extract_structured_data_using_llm(\"ollama/llama3.2\")\n",
    "await extract_structured_data_using_llm(\"openai/gpt-4o-mini\", os.getenv(\"OPENAI_API_KEY\"))"
   ]
  },
  {
   "cell_type": "markdown",
   "id": "b2ddc862",
   "metadata": {},
   "source": [
    "# cosine similary approach"
   ]
  },
  {
   "cell_type": "code",
   "execution_count": null,
   "id": "691359d2",
   "metadata": {},
   "outputs": [],
   "source": [
    "from crawl4ai.extraction_strategy import CosineStrategy\n",
    "\n",
    "async def cosine_similarity_extraction():\n",
    "    async with AsyncWebCrawler() as crawler:\n",
    "        strategy = CosineStrategy(\n",
    "            word_count_threshold=10,\n",
    "            max_dist=0.2, # Maximum distance between two words\n",
    "            linkage_method=\"ward\", # Linkage method for hierarchical clustering (ward, complete, average, single)\n",
    "            top_k=3, # Number of top keywords to extract\n",
    "            sim_threshold=0.3, # Similarity threshold for clustering\n",
    "            semantic_filter=\"McDonald's economic impact, American consumer trends\", # Keywords to filter the content semantically using embeddings\n",
    "            verbose=True\n",
    "        )\n",
    "\n",
    "        result = await crawler.arun(\n",
    "            url=\"https://www.nbcnews.com/business/consumer/how-mcdonalds-e-coli-crisis-inflation-politics-reflect-american-story-rcna177156\",\n",
    "            extraction_strategy=strategy,\n",
    "            cache_mode = CacheMode.ENABLED\n",
    "        )\n",
    "        print(json.loads(result.extracted_content)[:5])\n",
    "        with open(\"output/cosine_similarity_extraction.json\", \"w\") as f:\n",
    "            json.dump(json.loads(result.extracted_content), f, indent=2)\n",
    "\n",
    "asyncio.run(cosine_similarity_extraction())"
   ]
  }
 ],
 "metadata": {
  "kernelspec": {
   "display_name": ".venv",
   "language": "python",
   "name": "python3"
  },
  "language_info": {
   "codemirror_mode": {
    "name": "ipython",
    "version": 3
   },
   "file_extension": ".py",
   "mimetype": "text/x-python",
   "name": "python",
   "nbconvert_exporter": "python",
   "pygments_lexer": "ipython3",
   "version": "3.13.2"
  }
 },
 "nbformat": 4,
 "nbformat_minor": 5
}
